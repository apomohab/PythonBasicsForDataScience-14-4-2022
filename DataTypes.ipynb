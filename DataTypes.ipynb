{
 "cells": [
  {
   "cell_type": "markdown",
   "id": "ae6f3d4e",
   "metadata": {},
   "source": [
    "# Data Types 5 - 4 -2022"
   ]
  },
  {
   "cell_type": "markdown",
   "id": "f9dd6ade",
   "metadata": {},
   "source": [
    "أنواع البيانات المضمنة في البرمجة ،\n",
    "\n",
    "----\n",
    "يعد  معرفة نوع البيانات مفهومًا مهمًا يمكن للمتغيرات تخزين البيانات من أنواع مختلفة ، ويمكن للأنواع المختلفة القيام بأشياء مختلفة. \n",
    "\n",
    "-----\n",
    "\n",
    "تحتوي بايثون  على أنواع البيانات التالية المضمنة افتراضيًا ، في هذه الفئات:\n"
   ]
  },
  {
   "cell_type": "markdown",
   "id": "07735ef5",
   "metadata": {},
   "source": [
    "\n",
    "Text Type:\tstr \n",
    "\n",
    "x = \"Hello World\"\n",
    "\n",
    "-----\n",
    "\n",
    "\n",
    "Numeric Types:\tint, float\n",
    "\n",
    "x = 20\n",
    "\n",
    "x = 2.5\n",
    "\n",
    "------\n",
    "\n",
    "\n",
    "Sequence Types:\tlist, tuple\n",
    "    \n",
    "x = [\"apple\", \"banana\", \"cherry\"] list\n",
    "\n",
    "x = (\"apple\", \"banana\", \"cherry\") Tuple\n",
    "\n",
    "\n",
    "------\n",
    "\n",
    "Mapping Type:\tdict\n",
    "\n",
    "x = {\"name\" : \"John\", \"age\" : 36}\n",
    "\n",
    "-----\n",
    "\n",
    "Set Types:\tset \n",
    "\n",
    "x = {\"apple\", \"banana\", \"cherry\"}\n",
    "\n",
    "\n",
    "------\n",
    "\n",
    "Boolean Type:\tbool\n",
    "\n",
    "x = True\n",
    "\n",
    "-------\n",
    "\n",
    "\n"
   ]
  },
  {
   "cell_type": "code",
   "execution_count": null,
   "id": "6c0e3fb0",
   "metadata": {},
   "outputs": [],
   "source": []
  }
 ],
 "metadata": {
  "kernelspec": {
   "display_name": "Python 3.8.5 64-bit ('pandas_plyground': conda)",
   "language": "python",
   "name": "python38564bitpandasplygroundcondaaa923595e6d148cd9a5167da44284266"
  },
  "language_info": {
   "codemirror_mode": {
    "name": "ipython",
    "version": 3
   },
   "file_extension": ".py",
   "mimetype": "text/x-python",
   "name": "python",
   "nbconvert_exporter": "python",
   "pygments_lexer": "ipython3",
   "version": "3.8.12"
  }
 },
 "nbformat": 4,
 "nbformat_minor": 5
}
