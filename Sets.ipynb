{
 "cells": [
  {
   "cell_type": "code",
   "execution_count": 1,
   "id": "2d92f467",
   "metadata": {},
   "outputs": [],
   "source": [
    "# Python Sets 4 - 4 - 2022 3  Ramadan ."
   ]
  },
  {
   "cell_type": "markdown",
   "id": "5c936960",
   "metadata": {},
   "source": [
    " تستخدم المجموعات لتخزين عدة عناصر في متغير واحد\n",
    "\n",
    "-----\n",
    "\n",
    "هي واحدة من 4 أنواع بيانات مضمنة في بايثون\n",
    "\n",
    "-----\n",
    "\n",
    "سيتس هي مجموعة غير مرتبة وغير قابلة للتغيير * وغير مفهرسة.\n",
    "\n",
    "-----\n",
    " تستخدم المجنموعات الاقواس المعكوفة "
   ]
  },
  {
   "cell_type": "code",
   "execution_count": 10,
   "id": "74a6850c",
   "metadata": {},
   "outputs": [
    {
     "name": "stdout",
     "output_type": "stream",
     "text": [
      "{'Smsung', 'apple', 'Shawmi'}\n",
      "{'Smsung', 'apple', 'Shawmi'}\n"
     ]
    }
   ],
   "source": [
    "#Create Set \n",
    "\n",
    "iphones1 = {\"apple\" , \"Smsung\" , \"Shawmi\"}\n",
    "print(Set1)\n",
    "\n",
    "#other way\n",
    "X = set(Set1)\n",
    "print(X)\n",
    "\n",
    "\n",
    "\n"
   ]
  },
  {
   "cell_type": "code",
   "execution_count": 12,
   "id": "e46e7109",
   "metadata": {},
   "outputs": [
    {
     "data": {
      "text/plain": [
       "{'Shawmi', 'Smsung', 'apple'}"
      ]
     },
     "execution_count": 12,
     "metadata": {},
     "output_type": "execute_result"
    }
   ],
   "source": [
    "# Duplicates Not Allowed\n",
    "\n",
    "\n",
    "iphones1 = {\"apple\" , \"Smsung\" , \"Shawmi\" , \"apple\"}\n",
    "iphones1"
   ]
  },
  {
   "cell_type": "code",
   "execution_count": 14,
   "id": "d0cd9278",
   "metadata": {},
   "outputs": [
    {
     "ename": "TypeError",
     "evalue": "'set' object does not support item assignment",
     "output_type": "error",
     "traceback": [
      "\u001b[0;31m---------------------------------------------------------------------------\u001b[0m",
      "\u001b[0;31mTypeError\u001b[0m                                 Traceback (most recent call last)",
      "\u001b[0;32m/tmp/ipykernel_2546/2378494566.py\u001b[0m in \u001b[0;36m<module>\u001b[0;34m\u001b[0m\n\u001b[1;32m      1\u001b[0m \u001b[0;31m# Cannot Change\u001b[0m\u001b[0;34m\u001b[0m\u001b[0;34m\u001b[0m\u001b[0;34m\u001b[0m\u001b[0m\n\u001b[1;32m      2\u001b[0m \u001b[0;34m\u001b[0m\u001b[0m\n\u001b[0;32m----> 3\u001b[0;31m \u001b[0miphones1\u001b[0m\u001b[0;34m[\u001b[0m\u001b[0;34m\"0\"\u001b[0m\u001b[0;34m]\u001b[0m \u001b[0;34m=\u001b[0m \u001b[0;34m\"new\"\u001b[0m\u001b[0;34m\u001b[0m\u001b[0;34m\u001b[0m\u001b[0m\n\u001b[0m",
      "\u001b[0;31mTypeError\u001b[0m: 'set' object does not support item assignment"
     ]
    }
   ],
   "source": [
    "# Cannot Change\n",
    "\n",
    "iphones1[\"0\"] = \"new\""
   ]
  },
  {
   "cell_type": "code",
   "execution_count": 17,
   "id": "9326860d",
   "metadata": {},
   "outputs": [
    {
     "ename": "TypeError",
     "evalue": "'set' object is not subscriptable",
     "output_type": "error",
     "traceback": [
      "\u001b[0;31m---------------------------------------------------------------------------\u001b[0m",
      "\u001b[0;31mTypeError\u001b[0m                                 Traceback (most recent call last)",
      "\u001b[0;32m/tmp/ipykernel_2546/1227418498.py\u001b[0m in \u001b[0;36m<module>\u001b[0;34m\u001b[0m\n\u001b[1;32m      1\u001b[0m \u001b[0;31m#Not indexed\u001b[0m\u001b[0;34m\u001b[0m\u001b[0;34m\u001b[0m\u001b[0;34m\u001b[0m\u001b[0m\n\u001b[0;32m----> 2\u001b[0;31m \u001b[0miphones1\u001b[0m\u001b[0;34m[\u001b[0m\u001b[0;36m0\u001b[0m\u001b[0;34m]\u001b[0m\u001b[0;34m\u001b[0m\u001b[0;34m\u001b[0m\u001b[0m\n\u001b[0m",
      "\u001b[0;31mTypeError\u001b[0m: 'set' object is not subscriptable"
     ]
    }
   ],
   "source": [
    "#Not indexed \n",
    "iphones1[0]"
   ]
  },
  {
   "cell_type": "markdown",
   "id": "9eea55a7",
   "metadata": {},
   "source": [
    "# Set Methods "
   ]
  },
  {
   "cell_type": "markdown",
   "id": "cb919074",
   "metadata": {},
   "source": [
    "- add() Adds an element to the set\n",
    "- clear() Removes all the elements from the set\n",
    "- copy() Returns a copy of the set\n",
    "- difference() Returns a set containing the difference between two or more sets\n",
    "- difference_update() Removes the items in this set that are also included in another, specified set\n",
    "- discard() Remove the specified item\n",
    "- vintersection() Returns a set, that is the intersection of two or more sets\n",
    "- intersection_update() Removes the items in this set that are not present in other, specified set(s)\n",
    "- isdisjoint() Returns whether two sets have a intersection or not\n",
    "- issubset() Returns whether another set contains this set or not\n",
    "- issuperset() Returns whether this set contains another set or not\n",
    "- pop() Removes an element from the set\n",
    "- vremove() Removes the specified element\n",
    "- vsymmetric_difference() Returns a set with the symmetric differences of two sets\n",
    "- symmetric_difference_update()\tinserts the symmetric differences from this set and another\n",
    "- union() Return a set containing the union of sets\n",
    "- update()"
   ]
  },
  {
   "cell_type": "code",
   "execution_count": 20,
   "id": "f42259f4",
   "metadata": {},
   "outputs": [
    {
     "data": {
      "text/plain": [
       "{'C', 'java', 'php', 'puyhon'}"
      ]
     },
     "execution_count": 20,
     "metadata": {},
     "output_type": "execute_result"
    }
   ],
   "source": [
    "#add\n",
    "\n",
    "pgnames = {\"pyhon\" , \"php\" , 'java'}\n",
    "pgnames.add('C')\n",
    "pgnames"
   ]
  },
  {
   "cell_type": "code",
   "execution_count": 22,
   "id": "7232f341",
   "metadata": {},
   "outputs": [
    {
     "data": {
      "text/plain": [
       "set()"
      ]
     },
     "execution_count": 22,
     "metadata": {},
     "output_type": "execute_result"
    }
   ],
   "source": [
    "#clear \n",
    "\n",
    "pgnames.clear()\n",
    "pgnames\n"
   ]
  },
  {
   "cell_type": "code",
   "execution_count": 25,
   "id": "9b087633",
   "metadata": {},
   "outputs": [
    {
     "data": {
      "text/plain": [
       "{'java', 'php', 'pyhon'}"
      ]
     },
     "execution_count": 25,
     "metadata": {},
     "output_type": "execute_result"
    }
   ],
   "source": [
    "# Copy \n",
    "\n",
    "pgnames = {\"pyhon\" , \"php\" , 'java'}\n",
    "\n",
    "x = pgnames.copy()\n",
    "\n",
    "x"
   ]
  },
  {
   "cell_type": "code",
   "execution_count": 30,
   "id": "9cd388ba",
   "metadata": {},
   "outputs": [
    {
     "data": {
      "text/plain": [
       "{3, 4, 5}"
      ]
     },
     "execution_count": 30,
     "metadata": {},
     "output_type": "execute_result"
    }
   ],
   "source": [
    "# difference\n",
    " \n",
    "X = {1,2,3,4,5} #What is here\n",
    "Y = {1,2,30,40,50} # Not here\n",
    "\n",
    "Z = X.difference(Y)\n",
    "\n",
    "Z"
   ]
  },
  {
   "cell_type": "code",
   "execution_count": 32,
   "id": "25997773",
   "metadata": {},
   "outputs": [
    {
     "data": {
      "text/plain": [
       "{'java', 'pyhon'}"
      ]
     },
     "execution_count": 32,
     "metadata": {},
     "output_type": "execute_result"
    }
   ],
   "source": [
    "# discard\n",
    "\n",
    "\n",
    "pgnames = {\"pyhon\" , \"php\" , 'java'}\n",
    "\n",
    "pgnames.discard('php') # Remove php\n",
    "\n",
    "pgnames"
   ]
  },
  {
   "cell_type": "code",
   "execution_count": 38,
   "id": "3494f885",
   "metadata": {},
   "outputs": [
    {
     "data": {
      "text/plain": [
       "'php'"
      ]
     },
     "execution_count": 38,
     "metadata": {},
     "output_type": "execute_result"
    }
   ],
   "source": [
    "#  Remove\n",
    "\n",
    "\n",
    "pgnames = {\"pyhon\" , \"php\" , 'java'}\n",
    "\n",
    "pgnames.pop() # remove random"
   ]
  },
  {
   "cell_type": "code",
   "execution_count": 42,
   "id": "a564748b",
   "metadata": {},
   "outputs": [
    {
     "data": {
      "text/plain": [
       "{'java', 'pyhon'}"
      ]
     },
     "execution_count": 42,
     "metadata": {},
     "output_type": "execute_result"
    }
   ],
   "source": [
    "# remove\n",
    "\n",
    "pgnames = {\"pyhon\" , \"php\" , 'java'}\n",
    "\n",
    "pgnames.remove(\"php\") # remove selected\n",
    "\n",
    "pgnames\n"
   ]
  },
  {
   "cell_type": "code",
   "execution_count": 45,
   "id": "52b6b311",
   "metadata": {},
   "outputs": [
    {
     "name": "stdout",
     "output_type": "stream",
     "text": [
      "{1, 2, 3, 4, 5, 40, 50, 30}\n"
     ]
    }
   ],
   "source": [
    "# union \n",
    "\n",
    "\n",
    "X = {1,2,3,4,5}\n",
    "\n",
    "Y = {1,2,30,40,50} \n",
    "\n",
    "Z = X.union(Y) #Remove dublicated\n",
    "\n",
    "print(Z)\n",
    "\n"
   ]
  },
  {
   "cell_type": "code",
   "execution_count": 48,
   "id": "e02ea7d2",
   "metadata": {},
   "outputs": [
    {
     "name": "stdout",
     "output_type": "stream",
     "text": [
      "{1, 2, 3, 4, 5, 40, 50, 30}\n"
     ]
    }
   ],
   "source": [
    "# update\n",
    "\n",
    "# Insert the items from set y into set x and let dublicated\n",
    "\n",
    "X = {1,2,3,4,5} \n",
    "\n",
    "Y = {1,2,30,40,50} \n",
    "\n",
    "X.update(Y) \n",
    "\n",
    "print(X)"
   ]
  }
 ],
 "metadata": {
  "kernelspec": {
   "display_name": "Python 3.8.5 64-bit ('pandas_plyground': conda)",
   "language": "python",
   "name": "python38564bitpandasplygroundcondaaa923595e6d148cd9a5167da44284266"
  },
  "language_info": {
   "codemirror_mode": {
    "name": "ipython",
    "version": 3
   },
   "file_extension": ".py",
   "mimetype": "text/x-python",
   "name": "python",
   "nbconvert_exporter": "python",
   "pygments_lexer": "ipython3",
   "version": "3.8.12"
  }
 },
 "nbformat": 4,
 "nbformat_minor": 5
}
