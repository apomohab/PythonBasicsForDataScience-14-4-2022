{
 "cells": [
  {
   "cell_type": "markdown",
   "id": "be45c3e8",
   "metadata": {},
   "source": [
    "# FOR ما هي الحلقات والتكرار ؟\n",
    "\n",
    "----\n",
    "\n",
    "\n",
    "في برمجة الكمبيوتر ، الحلقة هي سلسلة من التعليمات التي تتكرر باستمرار حتى يتم الوصول إلى حالة معينة\n",
    ".\n",
    "\n",
    "----\n",
    "\n",
    "عادة ، يتم إجراء عملية معينة ، مثل الحصول على عنصر من البيانات وتغييره ، ثم يتم التحقق من بعض الشروط مثل ما إذا كان العداد قد وصل إلى الرقم المحدد.\n",
    "\n",
    "------\n",
    "\n",
    "\n",
    "إذا لم يحدث ذلك ، فإن التعليمات التالية في التسلسل هي تعليمات للعودة إلى التعليمات الأولى في التسلسل وتكرار التسلسل.\n",
    "\n",
    "-----\n",
    "\n",
    "\n",
    "إذا تم الوصول إلى الشرط ، فإن التعليمات التالية \"تدخل\" إلى التعليمات التسلسلية التالية أو الفروع خارج الحلقة.\n",
    "\n",
    "----\n",
    "\n",
    "Loop\n",
    "\n",
    "\n",
    "الحلقة هي فكرة برمجة أساسية تُستخدم بشكل شائع في كتابة البرامج.\n",
    "\n",
    "-----\n",
    "\n",
    "الحلقة النهائية هي التي تنتهي عند تحقيق شر أو حدث معين \n",
    "\n",
    "----------\n",
    "\n",
    "\n",
    "Loop\n",
    "\n",
    "الحلقة اللانهائية هي الحلقة التي تفتقر إلى  خروج فعال. \n",
    "\n",
    "\n",
    "والنتيجة هي أن الحلقة تتكرر باستمرار حتى يستشعرها نظام التشغيل وينهي البرنامج بخطأ أو حتى يقع حدث آخر\n",
    "\n",
    "(مثل إنهاء البرنامج تلقائيًا بعد فترة زمنية معينة).\n",
    "\n",
    "-----"
   ]
  },
  {
   "cell_type": "markdown",
   "id": "3a87ad78",
   "metadata": {},
   "source": [
    "#  FOR بنية التكرار\n",
    "\n",
    "\n",
    "----\n",
    "\n",
    "تُستخدم حلقة فور للتكرار عبر تسلسل (إما قائمة ، أو مجموعة ست، أو قاموس ، أو تابلز ، أو سلسلة نصية).\n",
    "\n",
    "------\n",
    "\n",
    "باستخدام حلقة فور ، يمكننا تنفيذ مجموعة من العبارات ، مرة واحدة لكل عنصر في القائمة ، أو   ست، أو تابلز ، إلخ.\n",
    "\n",
    "------\n",
    "\n"
   ]
  },
  {
   "cell_type": "markdown",
   "id": "63870bde",
   "metadata": {},
   "source": [
    "# Create Loop "
   ]
  },
  {
   "cell_type": "code",
   "execution_count": 2,
   "id": "adb649ea",
   "metadata": {},
   "outputs": [
    {
     "name": "stdout",
     "output_type": "stream",
     "text": [
      "python\n",
      "PHP\n",
      "Java\n"
     ]
    }
   ],
   "source": [
    "# Print each item in list \n",
    "\n",
    "TheList = [\"python\" , \"PHP\" , \"Java\"]\n",
    "\n",
    "for x in TheList:\n",
    "    \n",
    "    print(x)"
   ]
  },
  {
   "cell_type": "markdown",
   "id": "8228ce3a",
   "metadata": {},
   "source": [
    "# Loops String "
   ]
  },
  {
   "cell_type": "code",
   "execution_count": 5,
   "id": "603a6a48",
   "metadata": {},
   "outputs": [
    {
     "name": "stdout",
     "output_type": "stream",
     "text": [
      "P\n",
      "y\n",
      "t\n",
      "h\n",
      "o\n",
      "n\n"
     ]
    }
   ],
   "source": [
    "#تكرار سلسلة نصية \n",
    "\n",
    "for x in \"Python\":\n",
    "    \n",
    "    print(x)"
   ]
  },
  {
   "cell_type": "code",
   "execution_count": 7,
   "id": "b43c5c8f",
   "metadata": {},
   "outputs": [
    {
     "name": "stdout",
     "output_type": "stream",
     "text": [
      "S\n",
      "a\n",
      "e\n",
      "e\n",
      "d\n",
      " \n",
      "S\n",
      "h\n",
      "a\n",
      "b\n",
      "a\n",
      "n\n"
     ]
    }
   ],
   "source": [
    "# Again loop string\n",
    "\n",
    "name = \"Saeed Shaban\"\n",
    "\n",
    "for x in name:\n",
    "    \n",
    "    print(x)\n",
    "\n"
   ]
  },
  {
   "cell_type": "markdown",
   "id": "7a10ece2",
   "metadata": {},
   "source": [
    "# The break Statement"
   ]
  },
  {
   "cell_type": "code",
   "execution_count": 13,
   "id": "d7e6840f",
   "metadata": {},
   "outputs": [
    {
     "name": "stdout",
     "output_type": "stream",
     "text": [
      "A\n",
      "S\n",
      "B\n"
     ]
    }
   ],
   "source": [
    "# باستخدام تعليمة بريك ، يمكننا إيقاف الحلقة قبل أن تمر عبر جميع العناصر:\n",
    "\n",
    "Names = [\"A\" , \"S\" , \"B\" , \"C\" , \"E\"]\n",
    "\n",
    "for x in Names:\n",
    "    \n",
    "    print(x)\n",
    "    \n",
    "    if x == \"B\" :\n",
    "    \n",
    "        break"
   ]
  },
  {
   "cell_type": "markdown",
   "id": "16e2a588",
   "metadata": {},
   "source": [
    "# The continue Statement"
   ]
  },
  {
   "cell_type": "code",
   "execution_count": null,
   "id": "822408e8",
   "metadata": {},
   "outputs": [],
   "source": []
  },
  {
   "cell_type": "code",
   "execution_count": 16,
   "id": "218b4806",
   "metadata": {},
   "outputs": [
    {
     "name": "stdout",
     "output_type": "stream",
     "text": [
      "A\n",
      "S\n",
      "C\n",
      "E\n"
     ]
    }
   ],
   "source": [
    "# باستخدام تعليمة الاستمرار ،  يمكننا تجاوز التكرار الحالي لعنصر داخل للحلقة ، والاستمرار مع التالي::\n",
    "\n",
    "Names = [\"A\" , \"S\" , \"B\" , \"C\" , \"E\"]\n",
    "\n",
    "for x in Names:\n",
    "    \n",
    "    if x == \"B\" :\n",
    "    \n",
    "        continue\n",
    "    print(x)"
   ]
  },
  {
   "cell_type": "markdown",
   "id": "dd99d919",
   "metadata": {},
   "source": [
    "# Nested Loops "
   ]
  },
  {
   "cell_type": "code",
   "execution_count": 23,
   "id": "92129784",
   "metadata": {},
   "outputs": [],
   "source": [
    "# الحلقة المتداخلة هي حلقة داخل حلقة"
   ]
  },
  {
   "cell_type": "code",
   "execution_count": 24,
   "id": "5bc2148b",
   "metadata": {},
   "outputs": [
    {
     "name": "stdout",
     "output_type": "stream",
     "text": [
      "Saeed 10\n",
      "Saeed 15\n",
      "Saeed 20\n",
      "Sara 10\n",
      "Sara 15\n",
      "Sara 20\n",
      "Mohab 10\n",
      "Mohab 15\n",
      "Mohab 20\n"
     ]
    }
   ],
   "source": [
    "names = [\"Saeed\" , \"Sara\" , \"Mohab\"]\n",
    "Age = [10 , 15 , 20]\n",
    "\n",
    "for x in names:\n",
    "    for y in Age:\n",
    "        \n",
    "        print(x , y)"
   ]
  },
  {
   "cell_type": "markdown",
   "id": "7b066428",
   "metadata": {},
   "source": [
    "# Loops Function "
   ]
  },
  {
   "cell_type": "markdown",
   "id": "d876f5a0",
   "metadata": {},
   "source": [
    "# Range()\n",
    "\n",
    "---- \n",
    "\n",
    "تستخدم  للتكرار خلال مجموعة من التعليمات البرمجية لعدد محدد من المرات\n",
    "\n",
    "----\n",
    "\n",
    " تُرجع   تسلسلاً من الأرقام ، بدءًا من 0 افتراضيًا ، وتتزايد بمقدار 1 (افتراضيًا) ، وتنتهي عند رقم محدد."
   ]
  },
  {
   "cell_type": "code",
   "execution_count": 18,
   "id": "90f10f7f",
   "metadata": {},
   "outputs": [
    {
     "name": "stdout",
     "output_type": "stream",
     "text": [
      "0\n",
      "1\n",
      "2\n",
      "3\n",
      "4\n",
      "5\n",
      "6\n",
      "7\n",
      "8\n",
      "9\n"
     ]
    }
   ],
   "source": [
    "# start from 1 end at 10\n",
    "\n",
    "for x in range(10):\n",
    "    \n",
    "    print(x)"
   ]
  },
  {
   "cell_type": "code",
   "execution_count": 20,
   "id": "6935afde",
   "metadata": {},
   "outputs": [
    {
     "name": "stdout",
     "output_type": "stream",
     "text": [
      "5\n",
      "6\n",
      "7\n",
      "8\n",
      "9\n"
     ]
    }
   ],
   "source": [
    "# Start at 5 and finished at 9\n",
    "\n",
    "for x in range(5 , 10):\n",
    "    \n",
    "    print(x)"
   ]
  },
  {
   "cell_type": "code",
   "execution_count": 25,
   "id": "f1f3bb0b",
   "metadata": {},
   "outputs": [
    {
     "name": "stdout",
     "output_type": "stream",
     "text": [
      "2\n",
      "5\n",
      "8\n",
      "11\n",
      "14\n",
      "17\n",
      "20\n",
      "23\n",
      "26\n",
      "29\n",
      "32\n",
      "35\n",
      "38\n",
      "41\n",
      "44\n",
      "47\n"
     ]
    }
   ],
   "source": [
    "# Satrt at 2 finished at 50 steps 3 .\n",
    "\n",
    "for x in range(2,50,3):\n",
    "    \n",
    "    print(x)"
   ]
  },
  {
   "cell_type": "code",
   "execution_count": null,
   "id": "37f91744",
   "metadata": {},
   "outputs": [],
   "source": []
  }
 ],
 "metadata": {
  "kernelspec": {
   "display_name": "Python 3.8.5 64-bit ('pandas_plyground': conda)",
   "language": "python",
   "name": "python38564bitpandasplygroundcondaaa923595e6d148cd9a5167da44284266"
  },
  "language_info": {
   "codemirror_mode": {
    "name": "ipython",
    "version": 3
   },
   "file_extension": ".py",
   "mimetype": "text/x-python",
   "name": "python",
   "nbconvert_exporter": "python",
   "pygments_lexer": "ipython3",
   "version": "3.8.12"
  }
 },
 "nbformat": 4,
 "nbformat_minor": 5
}
