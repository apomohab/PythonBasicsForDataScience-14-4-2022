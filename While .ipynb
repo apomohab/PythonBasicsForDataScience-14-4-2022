{
 "cells": [
  {
   "cell_type": "markdown",
   "id": "64b49d6c",
   "metadata": {},
   "source": [
    "# While Loops - 5 - 4 - 2022"
   ]
  },
  {
   "cell_type": "markdown",
   "id": "3a834067",
   "metadata": {},
   "source": [
    "يوجد في بايثون نوعين فقط من الحلقات \n",
    "\n",
    "While \n",
    "\n",
    "For \n",
    "\n",
    "-------\n",
    "\n",
    "while loop\n",
    "\n",
    " تقوم  بتنفيذ مجموعة من العبارات طالما أن الشرط صحيح.\n",
    "\n",
    "\n",
    "-----\n",
    "\n",
    "For Loops\n",
    "\n",
    " \n",
    " \n",
    " عدد التكرارات التي يتعين إجراؤها معروف بالفعل ويستخدم للحصول على نتيجة معينة بينما يعمل الأمر "
   ]
  },
  {
   "cell_type": "markdown",
   "id": "e2bb6460",
   "metadata": {},
   "source": [
    "# Syntax While "
   ]
  },
  {
   "cell_type": "code",
   "execution_count": 6,
   "id": "15789874",
   "metadata": {},
   "outputs": [
    {
     "name": "stdout",
     "output_type": "stream",
     "text": [
      "1\n",
      "2\n",
      "3\n",
      "4\n",
      "5\n"
     ]
    }
   ],
   "source": [
    "# Print i as long as i is less than 6:اطبع الشرط طالما قيمته اقل من ٦\n",
    "\n",
    "i = 1\n",
    "\n",
    "while i < 6: # change to > and check.\n",
    "    \n",
    "    print(i)\n",
    "    \n",
    "    i = i+1\n",
    "\n"
   ]
  },
  {
   "cell_type": "markdown",
   "id": "825200df",
   "metadata": {},
   "source": [
    "# The break Statement\n"
   ]
  },
  {
   "cell_type": "code",
   "execution_count": 3,
   "id": "92aec53a",
   "metadata": {},
   "outputs": [
    {
     "name": "stdout",
     "output_type": "stream",
     "text": [
      "1\n",
      "2\n",
      "3\n",
      "4\n",
      "5\n",
      "6\n",
      "7\n",
      "8\n",
      "9\n",
      "10\n",
      "11\n",
      "12\n",
      "13\n",
      "14\n",
      "15\n",
      "16\n",
      "17\n",
      "18\n",
      "19\n"
     ]
    }
   ],
   "source": [
    "# باستخدام تعليمة بريك ، يمكننا إيقاف الحلقة قبل أن تمر عبر جميع العناصر:\n",
    "\n",
    "i = 1\n",
    "\n",
    "while i < 20 :\n",
    "    \n",
    "    print(i)\n",
    "    \n",
    "    if i == 20:\n",
    "        \n",
    "        break \n",
    "        \n",
    "    i += 1"
   ]
  },
  {
   "cell_type": "markdown",
   "id": "21728453",
   "metadata": {},
   "source": [
    "# The continue Statement"
   ]
  },
  {
   "cell_type": "code",
   "execution_count": 5,
   "id": "930007bc",
   "metadata": {},
   "outputs": [
    {
     "name": "stdout",
     "output_type": "stream",
     "text": [
      "2\n",
      "3\n",
      "4\n",
      "5\n",
      "6\n",
      "7\n",
      "8\n",
      "9\n",
      "11\n",
      "12\n",
      "13\n",
      "14\n",
      "15\n",
      "16\n",
      "17\n",
      "18\n",
      "19\n",
      "20\n",
      "21\n",
      "22\n",
      "23\n",
      "24\n",
      "25\n",
      "26\n",
      "27\n",
      "28\n",
      "29\n",
      "30\n",
      "31\n",
      "32\n",
      "33\n",
      "34\n",
      "35\n",
      "36\n",
      "37\n",
      "38\n",
      "39\n",
      "40\n",
      "41\n",
      "42\n",
      "43\n",
      "44\n",
      "45\n",
      "46\n",
      "47\n",
      "48\n",
      "49\n",
      "50\n"
     ]
    }
   ],
   "source": [
    "# باستخدام تعليمة الاستمرار ،  يمكننا تجاوز التكرار الحالي لعنصر داخل للحلقة ، والاستمرار مع التالي::\n",
    "\n",
    "\n",
    "i = 1\n",
    "\n",
    "while i < 50 :\n",
    "    \n",
    "    i += 1\n",
    "    \n",
    "    if i == 10 :\n",
    "        \n",
    "        continue \n",
    "        \n",
    "    print(i)"
   ]
  }
 ],
 "metadata": {
  "kernelspec": {
   "display_name": "Python 3.8.5 64-bit ('pandas_plyground': conda)",
   "language": "python",
   "name": "python38564bitpandasplygroundcondaaa923595e6d148cd9a5167da44284266"
  },
  "language_info": {
   "codemirror_mode": {
    "name": "ipython",
    "version": 3
   },
   "file_extension": ".py",
   "mimetype": "text/x-python",
   "name": "python",
   "nbconvert_exporter": "python",
   "pygments_lexer": "ipython3",
   "version": "3.8.12"
  }
 },
 "nbformat": 4,
 "nbformat_minor": 5
}
