{
 "cells": [
  {
   "cell_type": "code",
   "execution_count": 2,
   "id": "ffaaec44",
   "metadata": {},
   "outputs": [],
   "source": [
    "# Function -  5 - 4 - 2022  4 Ramadan /"
   ]
  },
  {
   "cell_type": "markdown",
   "id": "f9fafb96",
   "metadata": {},
   "source": [
    "# Function"
   ]
  },
  {
   "cell_type": "markdown",
   "id": "51f00506",
   "metadata": {},
   "source": [
    "الدوال  عبارة عن كتلة من التعليمات البرمجية يتم تشغيلها فقط عند استدعائها.\n",
    "\n",
    "----\n",
    "\n",
    " Parameters\n",
    " \n",
    "يمكنك تمرير البيانات ، المعروفة باسم المعلمات ، إلى دالة.\n",
    "\n",
    "------\n",
    "\n",
    "\n",
    "يمكن للدالة إرجاع البيانات كنتيجة.\n"
   ]
  },
  {
   "cell_type": "markdown",
   "id": "9a68e7a6",
   "metadata": {},
   "source": [
    "#Create Function\n"
   ]
  },
  {
   "cell_type": "code",
   "execution_count": 18,
   "id": "16644416",
   "metadata": {},
   "outputs": [
    {
     "data": {
      "text/plain": [
       "'Saeed Mohamed'"
      ]
     },
     "execution_count": 18,
     "metadata": {},
     "output_type": "execute_result"
    }
   ],
   "source": [
    "# Create function has name.\n",
    "\n",
    "def Your_Name():\n",
    "    \n",
    "    name = \"Saeed Mohamed\"\n",
    "    \n",
    "    return name\n",
    "\n",
    "Your_Name()"
   ]
  },
  {
   "cell_type": "markdown",
   "id": "14b36de4",
   "metadata": {},
   "source": [
    "# Arguments - الوسيط "
   ]
  },
  {
   "cell_type": "markdown",
   "id": "f9bd4fc2",
   "metadata": {},
   "source": [
    "يمكن تمرير المعلومات إلى الدالة كوسائط.\n",
    "\n",
    "----\n",
    "\n",
    "يتم تحديد الوسيطات بعد اسم الدالة داخل الاقواس \n",
    "\n",
    "-----\n",
    "\n",
    "،  يمكنك إضافة العديد من الوسائط كما تريد ، فقط افصل بينها بفاصلة.\n",
    "\n",
    "----\n"
   ]
  },
  {
   "cell_type": "code",
   "execution_count": 44,
   "id": "c2d4ac93",
   "metadata": {},
   "outputs": [
    {
     "data": {
      "text/plain": [
       "25"
      ]
     },
     "execution_count": 44,
     "metadata": {},
     "output_type": "execute_result"
    }
   ],
   "source": [
    "# another argument\n",
    "\n",
    "def Numbers(num):\n",
    "    \n",
    "    a = 5\n",
    "    \n",
    "    return a  * num\n",
    "    \n",
    "Numbers(5)"
   ]
  },
  {
   "cell_type": "markdown",
   "id": "24392706",
   "metadata": {},
   "source": [
    "# Arbitrary Arguments, *args - الوسيط العشوائي "
   ]
  },
  {
   "cell_type": "markdown",
   "id": "065ab3a4",
   "metadata": {},
   "source": [
    "إذا كنت لا تعرف عدد الوسائط التي سيتم تمريرها إلى وظيفتك ، فقم بإضافة * قبل اسم الوسيط في تعريف الوظيفة. \n",
    "\n",
    "----\n",
    "\n",
    "\n",
    "بهذه الطريقة ستتلقى الوظيفة مجموعة من المعطيات ، ويمكنها الوصول إلى العناصر وفقًا لذلك:"
   ]
  },
  {
   "cell_type": "code",
   "execution_count": 48,
   "id": "f2b8835d",
   "metadata": {},
   "outputs": [
    {
     "name": "stdout",
     "output_type": "stream",
     "text": [
      "These are childs Mohab\n"
     ]
    }
   ],
   "source": [
    "def Names(*son):\n",
    "    \n",
    "    print(\"These are childs \" + son[1])\n",
    "\n",
    "Names(\"Sara\"  , \"Mohab\" , \"Misk\")"
   ]
  },
  {
   "cell_type": "markdown",
   "id": "db129205",
   "metadata": {},
   "source": [
    "# Default Parameter Value - الوسيط الافتراضي \n"
   ]
  },
  {
   "cell_type": "markdown",
   "id": "5096bf16",
   "metadata": {},
   "source": [
    "يوضح المثال التالي كيفية استخدام قيمة وسيط افتراضية.\n",
    "\n",
    "---\n",
    "\n",
    "إذا استدعينا الدالة بدون وسيطة ، فإنها تستخدم القيمة الافتراضية:\n",
    "\n"
   ]
  },
  {
   "cell_type": "code",
   "execution_count": 49,
   "id": "971924da",
   "metadata": {},
   "outputs": [
    {
     "name": "stdout",
     "output_type": "stream",
     "text": [
      "im from Egypt\n"
     ]
    }
   ],
   "source": [
    "def countries(country=\"Egypt\"):\n",
    "    \n",
    "    \n",
    "    print(\"im from \" + country)\n",
    "    \n",
    "countries()"
   ]
  },
  {
   "cell_type": "markdown",
   "id": "8e97e6d3",
   "metadata": {},
   "source": [
    "# Create function has argument and format string .\n"
   ]
  },
  {
   "cell_type": "code",
   "execution_count": 37,
   "id": "1686e9aa",
   "metadata": {},
   "outputs": [
    {
     "name": "stdout",
     "output_type": "stream",
     "text": [
      " Data Science used  Python\n",
      " Data Science used in Machine Learning\n",
      " Data Science used  MAtplotlib for visualize data\n"
     ]
    }
   ],
   "source": [
    "def Python(DataScience):\n",
    "    \n",
    "    one = \"Python\"\n",
    "    tow = \"Machine Learning\"\n",
    "    There = \"MAtplotlib\"\n",
    "    \n",
    "    print(f\" {DataScience} used  {one}\")\n",
    "    print(f\" {DataScience} used in {tow}\")\n",
    "    print(f\" {DataScience} used  {There} for visualize data\")\n",
    "    \n",
    "\n",
    "\n",
    "\n",
    "Python(\"Data Science\")\n"
   ]
  },
  {
   "cell_type": "markdown",
   "id": "dea403c6",
   "metadata": {},
   "source": [
    "# Create Function has loop only"
   ]
  },
  {
   "cell_type": "code",
   "execution_count": 42,
   "id": "a8e2cef2",
   "metadata": {},
   "outputs": [
    {
     "name": "stdout",
     "output_type": "stream",
     "text": [
      "9\n",
      "12\n",
      "15\n"
     ]
    }
   ],
   "source": [
    "def numbers():\n",
    "    \n",
    "    multiples_num = [3,4,5]\n",
    "    \n",
    "    for x in multiples_num :\n",
    "        \n",
    "        print(x * 3)\n",
    "        \n",
    "numbers()"
   ]
  },
  {
   "cell_type": "markdown",
   "id": "9e01a421",
   "metadata": {},
   "source": [
    "# Apply Function with all"
   ]
  },
  {
   "cell_type": "code",
   "execution_count": 17,
   "id": "f272df5e",
   "metadata": {},
   "outputs": [
    {
     "name": "stdout",
     "output_type": "stream",
     "text": [
      "python\n",
      "y\n",
      "python\n",
      "php\n",
      "java\n",
      " Yes boss , we get the python element here \n"
     ]
    }
   ],
   "source": [
    "def Books():\n",
    "    \n",
    "    #the lists\n",
    "    list_books = [\"python\" , \"php\" , \"java\"]\n",
    "    \n",
    "    first_item = list_books[0]\n",
    "    second_item = first_item[1]\n",
    "    \n",
    "    print(first_item)\n",
    "    print(second_item)\n",
    "    \n",
    "    #Loop\n",
    "    \n",
    "    for x in list_books:\n",
    "        \n",
    "        print(x)\n",
    "        \n",
    "    #Statment - If \n",
    "    \n",
    "    if \"python\" in list_books :\n",
    "        \n",
    "        print(\" Yes boss , we get the python element here \")\n",
    "        \n",
    "    else :\n",
    "        \n",
    "        print(\" Try Again \")\n",
    "        \n",
    "    \n",
    "    \n",
    "Books()"
   ]
  }
 ],
 "metadata": {
  "kernelspec": {
   "display_name": "Python 3.8.5 64-bit ('pandas_plyground': conda)",
   "language": "python",
   "name": "python38564bitpandasplygroundcondaaa923595e6d148cd9a5167da44284266"
  },
  "language_info": {
   "codemirror_mode": {
    "name": "ipython",
    "version": 3
   },
   "file_extension": ".py",
   "mimetype": "text/x-python",
   "name": "python",
   "nbconvert_exporter": "python",
   "pygments_lexer": "ipython3",
   "version": "3.8.12"
  }
 },
 "nbformat": 4,
 "nbformat_minor": 5
}
