{
 "cells": [
  {
   "cell_type": "markdown",
   "id": "114f38f8",
   "metadata": {},
   "source": [
    "# Tuples - 4 - 4 - 2022\n",
    "\n"
   ]
  },
  {
   "cell_type": "markdown",
   "id": "9cfc16e6",
   "metadata": {},
   "source": [
    ". هو واحد من 4 أنواع بيانات مضمنة في بايثون تُستخدم لتخزين مجموعات من البيانات ، \n",
    "\n",
    "-------\n",
    "\n",
    "أما الأنواع الثلاثة الأخرى فهي ،  قائمة ، المجموعات ، وقاموس ، وكلها ذات خصائص واستخدامات مختلفة. \n",
    "\n",
    "-------\n",
    "\n",
    "تابلز هي مجموعات مرتبة وغير قابلة للتغيير.\n",
    "\n",
    "-------\n",
    "\n",
    "تتم كتابة المجموعات بأقواس مستديرة ().\n",
    "\n",
    "-------\n",
    " عندما نقول أن المجموعات مرتبة ، فهذا يعني أن العناصر لها ترتيب محدد ، ولن يتغير هذا الترتيب.\n",
    " \n",
    " -----\n",
    " \n",
    " المجموعات غير قابلة للتغيير ، مما يعني أنه لا يمكننا تغيير العناصر أو إضافتها أو إزالتها بعد إنشاء المجموعة.\n",
    " \n",
    " -----\n",
    " \n",
    " السماح بالتكرارات نظرًا لأن المجموعات مفهرسة ، يمكن أن تحتوي على عناصر بنفس القيمة:\n",
    " \n",
    " "
   ]
  },
  {
   "cell_type": "code",
   "execution_count": 3,
   "id": "c08dc1c8",
   "metadata": {},
   "outputs": [
    {
     "data": {
      "text/plain": [
       "('DataScience', 'DataAnalysis', 'DataEngenieers')"
      ]
     },
     "execution_count": 3,
     "metadata": {},
     "output_type": "execute_result"
    }
   ],
   "source": [
    "#ً Write Tuples\n",
    "\n",
    "Tup1= (\"DataScience\" , \"DataAnalysis\" , \"DataEngenieers\")\n",
    "Tup1"
   ]
  },
  {
   "cell_type": "code",
   "execution_count": 5,
   "id": "33c46197",
   "metadata": {},
   "outputs": [
    {
     "ename": "TypeError",
     "evalue": "'tuple' object does not support item assignment",
     "output_type": "error",
     "traceback": [
      "\u001b[0;31m---------------------------------------------------------------------------\u001b[0m",
      "\u001b[0;31mTypeError\u001b[0m                                 Traceback (most recent call last)",
      "\u001b[0;32m/tmp/ipykernel_2852/293731593.py\u001b[0m in \u001b[0;36m<module>\u001b[0;34m\u001b[0m\n\u001b[1;32m      1\u001b[0m \u001b[0;31m#Cant Change\u001b[0m\u001b[0;34m\u001b[0m\u001b[0;34m\u001b[0m\u001b[0;34m\u001b[0m\u001b[0m\n\u001b[1;32m      2\u001b[0m \u001b[0;34m\u001b[0m\u001b[0m\n\u001b[0;32m----> 3\u001b[0;31m \u001b[0mTup1\u001b[0m\u001b[0;34m[\u001b[0m\u001b[0;36m0\u001b[0m\u001b[0;34m]\u001b[0m \u001b[0;34m=\u001b[0m \u001b[0;34m\"A\"\u001b[0m\u001b[0;34m\u001b[0m\u001b[0;34m\u001b[0m\u001b[0m\n\u001b[0m",
      "\u001b[0;31mTypeError\u001b[0m: 'tuple' object does not support item assignment"
     ]
    }
   ],
   "source": [
    "#Cant Change\n",
    "\n",
    "Tup1[0] = \"A\""
   ]
  },
  {
   "cell_type": "code",
   "execution_count": 7,
   "id": "66d456e2",
   "metadata": {},
   "outputs": [
    {
     "data": {
      "text/plain": [
       "'DataScience'"
      ]
     },
     "execution_count": 7,
     "metadata": {},
     "output_type": "execute_result"
    }
   ],
   "source": [
    "#Indexed \n",
    "\n",
    "Tup1[0]"
   ]
  },
  {
   "cell_type": "code",
   "execution_count": 9,
   "id": "1ee2448e",
   "metadata": {},
   "outputs": [
    {
     "ename": "TypeError",
     "evalue": "'tuple' object does not support item assignment",
     "output_type": "error",
     "traceback": [
      "\u001b[0;31m---------------------------------------------------------------------------\u001b[0m",
      "\u001b[0;31mTypeError\u001b[0m                                 Traceback (most recent call last)",
      "\u001b[0;32m/tmp/ipykernel_2852/1982807684.py\u001b[0m in \u001b[0;36m<module>\u001b[0;34m\u001b[0m\n\u001b[1;32m      1\u001b[0m \u001b[0;31m# Not Change items\u001b[0m\u001b[0;34m\u001b[0m\u001b[0;34m\u001b[0m\u001b[0;34m\u001b[0m\u001b[0m\n\u001b[1;32m      2\u001b[0m \u001b[0;34m\u001b[0m\u001b[0m\n\u001b[0;32m----> 3\u001b[0;31m \u001b[0mTup1\u001b[0m\u001b[0;34m[\u001b[0m\u001b[0;34m'DataScience'\u001b[0m\u001b[0;34m]\u001b[0m \u001b[0;34m=\u001b[0m \u001b[0;34m\"X\"\u001b[0m\u001b[0;34m\u001b[0m\u001b[0;34m\u001b[0m\u001b[0m\n\u001b[0m\u001b[1;32m      4\u001b[0m \u001b[0mTup1\u001b[0m\u001b[0;34m\u001b[0m\u001b[0;34m\u001b[0m\u001b[0m\n",
      "\u001b[0;31mTypeError\u001b[0m: 'tuple' object does not support item assignment"
     ]
    }
   ],
   "source": [
    "# Not Change items\n",
    "\n",
    "Tup1['DataScience'] = \"X\"\n",
    "Tup1"
   ]
  },
  {
   "cell_type": "code",
   "execution_count": 11,
   "id": "27a40c73",
   "metadata": {},
   "outputs": [
    {
     "data": {
      "text/plain": [
       "('DataScience', 'DataAnalysis', 'DataEngenieers', 'DataScience')"
      ]
     },
     "execution_count": 11,
     "metadata": {},
     "output_type": "execute_result"
    }
   ],
   "source": [
    "# Allow Duplicated \n",
    "\n",
    "Tup1= (\"DataScience\" , \"DataAnalysis\" , \"DataEngenieers\" , \"DataScience\")\n",
    "Tup1"
   ]
  },
  {
   "cell_type": "markdown",
   "id": "04f43c26",
   "metadata": {},
   "source": [
    "# Methods "
   ]
  },
  {
   "cell_type": "markdown",
   "id": "d6190e63",
   "metadata": {},
   "source": [
    "- count() Returns the number of times a specified value occurs in a tuple\n",
    "- index() Searches the tuple for a specified value and returns the position of where it was found"
   ]
  },
  {
   "cell_type": "code",
   "execution_count": 15,
   "id": "e4b46d34",
   "metadata": {},
   "outputs": [
    {
     "name": "stdout",
     "output_type": "stream",
     "text": [
      "3\n"
     ]
    }
   ],
   "source": [
    "# Count \n",
    "\n",
    "thistuple = (1, 3, 7, 8, 7, 5, 4, 6, 8, 5 , 5)\n",
    "\n",
    "x = thistuple.count(5) # how many repeated 5\n",
    "\n",
    "print(x)"
   ]
  },
  {
   "cell_type": "code",
   "execution_count": 17,
   "id": "a8f00b97",
   "metadata": {},
   "outputs": [
    {
     "data": {
      "text/plain": [
       "5"
      ]
     },
     "execution_count": 17,
     "metadata": {},
     "output_type": "execute_result"
    }
   ],
   "source": [
    "# index \n",
    "\n",
    "\n",
    "thistuple = (1, 3, 7, 8, 7, 5, 4, 6, 8, 5 , 5)\n",
    "\n",
    "x = thistuple.index(5) # index 5 in list\n",
    "\n",
    "x\n"
   ]
  }
 ],
 "metadata": {
  "kernelspec": {
   "display_name": "Python 3.8.5 64-bit ('pandas_plyground': conda)",
   "language": "python",
   "name": "python38564bitpandasplygroundcondaaa923595e6d148cd9a5167da44284266"
  },
  "language_info": {
   "codemirror_mode": {
    "name": "ipython",
    "version": 3
   },
   "file_extension": ".py",
   "mimetype": "text/x-python",
   "name": "python",
   "nbconvert_exporter": "python",
   "pygments_lexer": "ipython3",
   "version": "3.8.12"
  }
 },
 "nbformat": 4,
 "nbformat_minor": 5
}
