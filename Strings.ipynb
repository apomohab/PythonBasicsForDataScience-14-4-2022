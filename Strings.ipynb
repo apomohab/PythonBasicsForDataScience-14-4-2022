{
 "cells": [
  {
   "cell_type": "markdown",
   "id": "04688904",
   "metadata": {},
   "source": [
    "# Python String "
   ]
  },
  {
   "cell_type": "markdown",
   "id": "f23621c3",
   "metadata": {},
   "source": [
    "السلاسل في بيثون محاطة بعلامات اقتباس مفردة أو علامات اقتباس مزدوجة.\n",
    "\n",
    "\n",
    "-----\n",
    "\n",
    "يمكن كتابة النصوص باستخدام الاقواس الدائرية أو بدونها \n",
    "\n",
    "------"
   ]
  },
  {
   "cell_type": "markdown",
   "id": "61c75933",
   "metadata": {},
   "source": [
    "# Create Text"
   ]
  },
  {
   "cell_type": "code",
   "execution_count": 3,
   "id": "3b9aac91",
   "metadata": {},
   "outputs": [
    {
     "name": "stdout",
     "output_type": "stream",
     "text": [
      "Python hrdway\n"
     ]
    }
   ],
   "source": [
    "Books = \"Python hrdway\"\n",
    "\n",
    "print(Books)"
   ]
  },
  {
   "cell_type": "markdown",
   "id": "c22ea81d",
   "metadata": {},
   "source": [
    "# Multiline Strings"
   ]
  },
  {
   "cell_type": "code",
   "execution_count": 6,
   "id": "a8d0829e",
   "metadata": {},
   "outputs": [
    {
     "name": "stdout",
     "output_type": "stream",
     "text": [
      "\n",
      "\n",
      "    hi , my name is saeed , 29 years old , im from egypt\n",
      "    but live in saudi arabia , i like python language\n",
      "    for used in data science.\n",
      "\n",
      "\n",
      "\n"
     ]
    }
   ],
   "source": [
    "Story = \"\"\"\n",
    "\n",
    "    hi , my name is saeed , 29 years old , im from egypt\n",
    "    but live in saudi arabia , i like python language\n",
    "    for used in data science.\n",
    "\n",
    "\n",
    "\"\"\"\n",
    "\n",
    "print(Story)"
   ]
  },
  {
   "cell_type": "markdown",
   "id": "4811ff7c",
   "metadata": {},
   "source": [
    "# Strings are Arrays"
   ]
  },
  {
   "cell_type": "markdown",
   "id": "1e3303b0",
   "metadata": {},
   "source": [
    "السلاسل عبارة عن مصفوفات ويمكن الوصول الي عناصرها باستخدام الفهرسة كما تعلمنا في الدروس السايقة"
   ]
  },
  {
   "cell_type": "code",
   "execution_count": 20,
   "id": "09c1290d",
   "metadata": {},
   "outputs": [
    {
     "name": "stdout",
     "output_type": "stream",
     "text": [
      "y\n",
      "Python hrd\n",
      "ython hrdway\n",
      "yhnhd\n",
      "y\n"
     ]
    }
   ],
   "source": [
    "# Access Elements Array.\n",
    "\n",
    "print(Books[1])\n",
    "print(Books[0:10])\n",
    "print(Books[1:])\n",
    "print(Books[1:10:2])\n",
    "print(Books[-1])\n"
   ]
  },
  {
   "cell_type": "markdown",
   "id": "a2a277b1",
   "metadata": {},
   "source": [
    "# Loops String"
   ]
  },
  {
   "cell_type": "code",
   "execution_count": 21,
   "id": "ba9de355",
   "metadata": {},
   "outputs": [
    {
     "name": "stdout",
     "output_type": "stream",
     "text": [
      "\n",
      "\n",
      "\n",
      "\n",
      " \n",
      " \n",
      " \n",
      " \n",
      "h\n",
      "i\n",
      " \n",
      ",\n",
      " \n",
      "m\n",
      "y\n",
      " \n",
      "n\n",
      "a\n",
      "m\n",
      "e\n",
      " \n",
      "i\n",
      "s\n",
      " \n",
      "s\n",
      "a\n",
      "e\n",
      "e\n",
      "d\n",
      " \n",
      ",\n",
      " \n",
      "2\n",
      "9\n",
      " \n",
      "y\n",
      "e\n",
      "a\n",
      "r\n",
      "s\n",
      " \n",
      "o\n",
      "l\n",
      "d\n",
      " \n",
      ",\n",
      " \n",
      "i\n",
      "m\n",
      " \n",
      "f\n",
      "r\n",
      "o\n",
      "m\n",
      " \n",
      "e\n",
      "g\n",
      "y\n",
      "p\n",
      "t\n",
      "\n",
      "\n",
      " \n",
      " \n",
      " \n",
      " \n",
      "b\n",
      "u\n",
      "t\n",
      " \n",
      "l\n",
      "i\n",
      "v\n",
      "e\n",
      " \n",
      "i\n",
      "n\n",
      " \n",
      "s\n",
      "a\n",
      "u\n",
      "d\n",
      "i\n",
      " \n",
      "a\n",
      "r\n",
      "a\n",
      "b\n",
      "i\n",
      "a\n",
      " \n",
      ",\n",
      " \n",
      "i\n",
      " \n",
      "l\n",
      "i\n",
      "k\n",
      "e\n",
      " \n",
      "p\n",
      "y\n",
      "t\n",
      "h\n",
      "o\n",
      "n\n",
      " \n",
      "l\n",
      "a\n",
      "n\n",
      "g\n",
      "u\n",
      "a\n",
      "g\n",
      "e\n",
      "\n",
      "\n",
      " \n",
      " \n",
      " \n",
      " \n",
      "f\n",
      "o\n",
      "r\n",
      " \n",
      "u\n",
      "s\n",
      "e\n",
      "d\n",
      " \n",
      "i\n",
      "n\n",
      " \n",
      "d\n",
      "a\n",
      "t\n",
      "a\n",
      " \n",
      "s\n",
      "c\n",
      "i\n",
      "e\n",
      "n\n",
      "c\n",
      "e\n",
      ".\n",
      "\n",
      "\n",
      "\n",
      "\n",
      "\n",
      "\n"
     ]
    }
   ],
   "source": [
    "for x in Story:\n",
    "    \n",
    "    print(x)"
   ]
  },
  {
   "cell_type": "markdown",
   "id": "f3c67275",
   "metadata": {},
   "source": [
    "# Checks String used - in -\n"
   ]
  },
  {
   "cell_type": "code",
   "execution_count": 26,
   "id": "4047313f",
   "metadata": {},
   "outputs": [
    {
     "name": "stdout",
     "output_type": "stream",
     "text": [
      "True\n"
     ]
    }
   ],
   "source": [
    "name = \"Saeed Mohamed\"\n",
    "print(\"Saeed\" in name)"
   ]
  },
  {
   "cell_type": "code",
   "execution_count": 29,
   "id": "e1712fd5",
   "metadata": {},
   "outputs": [
    {
     "name": "stdout",
     "output_type": "stream",
     "text": [
      "yes\n"
     ]
    }
   ],
   "source": [
    "name = \"Sara Saeed\"\n",
    "\n",
    "if \"Saeed\" in name:\n",
    "    \n",
    "    print(\"yes\")\n",
    "    \n",
    "else :\n",
    "    \n",
    "        print(\"Try Again\")"
   ]
  },
  {
   "cell_type": "markdown",
   "id": "b6796c2a",
   "metadata": {},
   "source": [
    "# Check string used Not in "
   ]
  },
  {
   "cell_type": "code",
   "execution_count": 30,
   "id": "c09a50e9",
   "metadata": {},
   "outputs": [
    {
     "name": "stdout",
     "output_type": "stream",
     "text": [
      "Again\n"
     ]
    }
   ],
   "source": [
    "if \"Saeed\" not in name:\n",
    "    \n",
    "    print(\"yes not here\")\n",
    "    \n",
    "else:\n",
    "    \n",
    "    print(\"Again\")\n",
    "    "
   ]
  },
  {
   "cell_type": "markdown",
   "id": "ca8218a0",
   "metadata": {},
   "source": [
    "# String Methods "
   ]
  },
  {
   "cell_type": "markdown",
   "id": "a6938551",
   "metadata": {},
   "source": [
    "- capitalize () \tConverts the first character to upper case\n",
    "- lower( )  \t    Converts a string into lower case\n",
    "- title( )   \t    Converts the first character of each word to upper case\n",
    "- casefold( )      \tConverts string into lower case\n",
    "- upper( )          Converts a string into upper case\n",
    "- count( )          Returns the number of times a specified value occurs in a string\n",
    "- find( )           Searches the string for a specified value and returns the position of where it was found- - \n",
    "- replace( )        Returns a string where a specified value is replaced with a specified value\n",
    "- swapcase( )       Swaps cases, lower case becomes upper case and vice versa\n",
    "- join( )           Joins the elements of an iterable to the end of the string"
   ]
  },
  {
   "cell_type": "code",
   "execution_count": 32,
   "id": "229f3cc3",
   "metadata": {},
   "outputs": [
    {
     "name": "stdout",
     "output_type": "stream",
     "text": [
      "I learn python\n"
     ]
    }
   ],
   "source": [
    "# Capitalize \n",
    "\n",
    "A = \"i learn Python\"\n",
    "\n",
    "print(A.capitalize())"
   ]
  },
  {
   "cell_type": "code",
   "execution_count": 35,
   "id": "2ea40a02",
   "metadata": {},
   "outputs": [
    {
     "name": "stdout",
     "output_type": "stream",
     "text": [
      "python\n"
     ]
    }
   ],
   "source": [
    "# Lower \n",
    "\n",
    "b = \"PYTHON\"\n",
    "print(b.lower())"
   ]
  },
  {
   "cell_type": "code",
   "execution_count": 37,
   "id": "c2431b9d",
   "metadata": {},
   "outputs": [
    {
     "name": "stdout",
     "output_type": "stream",
     "text": [
      "Python\n"
     ]
    }
   ],
   "source": [
    "# title\n",
    "\n",
    "b = \"PYTHON\"\n",
    "print(b.title())\n"
   ]
  },
  {
   "cell_type": "code",
   "execution_count": 39,
   "id": "3b73fdde",
   "metadata": {},
   "outputs": [
    {
     "name": "stdout",
     "output_type": "stream",
     "text": [
      "python\n"
     ]
    }
   ],
   "source": [
    "# casefold\n",
    "\n",
    "b = \"PYTHON\"\n",
    "print(b.casefold())\n"
   ]
  },
  {
   "cell_type": "code",
   "execution_count": 41,
   "id": "d8819bad",
   "metadata": {},
   "outputs": [
    {
     "name": "stdout",
     "output_type": "stream",
     "text": [
      "PYTHON\n"
     ]
    }
   ],
   "source": [
    "# upper\n",
    "\n",
    "b = \"python\"\n",
    "print(b.upper())\n"
   ]
  },
  {
   "cell_type": "code",
   "execution_count": 43,
   "id": "1f02ddc8",
   "metadata": {},
   "outputs": [
    {
     "name": "stdout",
     "output_type": "stream",
     "text": [
      "2\n"
     ]
    }
   ],
   "source": [
    "# count - إرجاع عدد المرات التي تظهر فيها القيمة  في السلسلة:\n",
    "\n",
    "A = \" Python for Ds Python\"\n",
    "print(A.count(\"Python\"))"
   ]
  },
  {
   "cell_type": "code",
   "execution_count": 47,
   "id": "ab859698",
   "metadata": {},
   "outputs": [
    {
     "name": "stdout",
     "output_type": "stream",
     "text": [
      "1\n",
      "8\n"
     ]
    }
   ],
   "source": [
    "# Find - أين يوجد  تكرار للسلسلة  في النص ؟:\n",
    "\n",
    "A = \" Python for Ds Python\"\n",
    "print(A.find(\"Python\"))\n",
    "print(A.find(\"for\"))"
   ]
  },
  {
   "cell_type": "code",
   "execution_count": 49,
   "id": "45506daf",
   "metadata": {},
   "outputs": [
    {
     "data": {
      "text/plain": [
       "'oneee tow there'"
      ]
     },
     "execution_count": 49,
     "metadata": {},
     "output_type": "execute_result"
    }
   ],
   "source": [
    "# Replace - ترجع سلسلة حيث يتم استبدال قيمة محددة بقيمة محددة\n",
    "\n",
    "Z = \"one tow there\"\n",
    "\n",
    "x = Z.replace(\"one\" , \"oneee\")\n",
    "x"
   ]
  },
  {
   "cell_type": "code",
   "execution_count": 51,
   "id": "590679c8",
   "metadata": {},
   "outputs": [
    {
     "data": {
      "text/plain": [
       "'apc ABC'"
      ]
     },
     "execution_count": 51,
     "metadata": {},
     "output_type": "execute_result"
    }
   ],
   "source": [
    "# Swapcase - حالات المقايضة ، تصبح الأحرف الصغيرة كبيرة والعكس صحيح\n",
    "\n",
    "C = \"APC abc\"\n",
    "\n",
    "C.swapcase()"
   ]
  },
  {
   "cell_type": "code",
   "execution_count": 55,
   "id": "78a8bf24",
   "metadata": {},
   "outputs": [
    {
     "name": "stdout",
     "output_type": "stream",
     "text": [
      "H#e#l#l#o# #F#r#i#e#n#d# #i#n# #p#y#t#h#o#n\n"
     ]
    },
    {
     "data": {
      "text/plain": [
       "'python$PHP$JAva'"
      ]
     },
     "execution_count": 55,
     "metadata": {},
     "output_type": "execute_result"
    }
   ],
   "source": [
    "# join - ضم جميع العناصر في مجموعة في سلسلة ، باستخدام حرف معين:\n",
    "\n",
    "String1 = \"Hello Friend in python\"\n",
    "String1= \"#\".join(N)\n",
    "print(S)\n",
    "\n",
    "#Tuples\n",
    "\n",
    "String2 = (\"python\" , \"PHP\" , \"JAva\")\n",
    "C = \"$\".join(String2)\n",
    "C\n",
    "\n"
   ]
  }
 ],
 "metadata": {
  "kernelspec": {
   "display_name": "Python 3.8.5 64-bit ('pandas_plyground': conda)",
   "language": "python",
   "name": "python38564bitpandasplygroundcondaaa923595e6d148cd9a5167da44284266"
  },
  "language_info": {
   "codemirror_mode": {
    "name": "ipython",
    "version": 3
   },
   "file_extension": ".py",
   "mimetype": "text/x-python",
   "name": "python",
   "nbconvert_exporter": "python",
   "pygments_lexer": "ipython3",
   "version": "3.8.12"
  }
 },
 "nbformat": 4,
 "nbformat_minor": 5
}
