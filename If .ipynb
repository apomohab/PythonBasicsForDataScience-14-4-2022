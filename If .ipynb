{
 "cells": [
  {
   "cell_type": "code",
   "execution_count": 2,
   "id": "d5704275",
   "metadata": {},
   "outputs": [],
   "source": [
    "# if - Statment - 4 - 5 - 2022"
   ]
  },
  {
   "cell_type": "markdown",
   "id": "f23b12f4",
   "metadata": {},
   "source": [
    "الشروط في باثون \n",
    "\n",
    "----\n",
    "\n",
    "يعد اتخاذ القرار مفهومًا أساسيًا في أي لغة برمجة وهو مطلوب عندما تريد تنفيذ التعليمات البرمجية عند استيفاء شرط\n",
    "\n",
    "----\n",
    "\n",
    "تدعم بايثون ايضا الشرو المنطقية المعتادة في الرياضيات  وهي كالتالي \n",
    "\n",
    "تدعم بايثون الشروط المنطقية المعتادة من الرياضيات:\n",
    "\n",
    "----\n",
    "\n",
    "- Equals: a == b للتاكد من المطابقة - \n",
    "- Not Equals: a != b لا تساوي - \n",
    "- Less than: a < b اصغر من \n",
    "- Less than or equal to: a <= b اصغر من او تساوي\n",
    "- Greater than: a > b اكبر من \n",
    "- Greater than or equal to: a >= b اكبر من او تساوي \n",
    "\n"
   ]
  },
  {
   "cell_type": "markdown",
   "id": "d73cc955",
   "metadata": {},
   "source": [
    "# Syntax if"
   ]
  },
  {
   "cell_type": "code",
   "execution_count": 5,
   "id": "aea4bd71",
   "metadata": {},
   "outputs": [
    {
     "name": "stdout",
     "output_type": "stream",
     "text": [
      "successful\n"
     ]
    }
   ],
   "source": [
    "a = 10 \n",
    "\n",
    "b = 20\n",
    "\n",
    "if a < b :\n",
    "    \n",
    "    print(\"successful\")"
   ]
  },
  {
   "cell_type": "markdown",
   "id": "26c14d65",
   "metadata": {},
   "source": [
    "# El if"
   ]
  },
  {
   "cell_type": "code",
   "execution_count": 7,
   "id": "15ed41e7",
   "metadata": {},
   "outputs": [
    {
     "name": "stdout",
     "output_type": "stream",
     "text": [
      "Your names is right\n"
     ]
    }
   ],
   "source": [
    "a = \"Saeed\"\n",
    "\n",
    "if a == \"Saeed\":\n",
    "    \n",
    "    print(\"Your names is right\")\n",
    "    \n",
    "elif a != \"Saeed\":\n",
    "    \n",
    "    print(\"Try sgsin\")\n",
    "    \n"
   ]
  },
  {
   "cell_type": "markdown",
   "id": "ef33992d",
   "metadata": {},
   "source": [
    "# Else "
   ]
  },
  {
   "cell_type": "code",
   "execution_count": 14,
   "id": "9a8537dd",
   "metadata": {},
   "outputs": [
    {
     "name": "stdout",
     "output_type": "stream",
     "text": [
      "back to learn please\n"
     ]
    }
   ],
   "source": [
    "#a = \"Saeed\"\n",
    "#a = \"Ahmad\"\n",
    "\n",
    "a = 10\n",
    "\n",
    "if a == \"Saeed\": #one\n",
    "    \n",
    "    print(\"Your names is right\")\n",
    "    \n",
    "elif a == \"Ahmad\": #tow\n",
    "    \n",
    "    print(\"Your name is ahmed\")\n",
    "    \n",
    "else : #There\n",
    "    \n",
    "    print(\"back to learn please\")"
   ]
  },
  {
   "cell_type": "code",
   "execution_count": null,
   "id": "a59de7d8",
   "metadata": {},
   "outputs": [],
   "source": [
    "# And - Or "
   ]
  },
  {
   "cell_type": "markdown",
   "id": "bfc0f113",
   "metadata": {},
   "source": [
    "عوامل  منطقية ، وتُستخدم للجمع بين العبارات الشرطية:"
   ]
  },
  {
   "cell_type": "code",
   "execution_count": 18,
   "id": "cc1dffd1",
   "metadata": {},
   "outputs": [
    {
     "name": "stdout",
     "output_type": "stream",
     "text": [
      "Your Right...\n"
     ]
    }
   ],
   "source": [
    "# and \n",
    "\n",
    "A = 100\n",
    "\n",
    "B = 200\n",
    "\n",
    "if A < B and B == 200:\n",
    "    \n",
    "    print(\"Your Right...\")"
   ]
  },
  {
   "cell_type": "code",
   "execution_count": 23,
   "id": "bb994fd4",
   "metadata": {},
   "outputs": [
    {
     "name": "stdout",
     "output_type": "stream",
     "text": [
      "it's ok\n"
     ]
    }
   ],
   "source": [
    "# OR \n",
    "\n",
    "A = \"Python\"\n",
    "\n",
    "B = \"Php\"\n",
    "\n",
    "if A == \"java\" or B == \"Php\":\n",
    "    \n",
    "    print(\"it's ok\")"
   ]
  },
  {
   "cell_type": "code",
   "execution_count": 26,
   "id": "8a4276a3",
   "metadata": {},
   "outputs": [
    {
     "name": "stdout",
     "output_type": "stream",
     "text": [
      "The age is right\n",
      "Age not ok\n"
     ]
    }
   ],
   "source": [
    "# Nested if - الشروط المتداخلة\n",
    "Age = 25\n",
    "\n",
    "if Age > 20:\n",
    "    \n",
    "    print(\"The age is right\")\n",
    "    \n",
    "    if Age > 10 :\n",
    "        \n",
    "        print(\"Age not ok\")\n",
    "        \n",
    "    else:\n",
    "        print(\"Try again please\")\n",
    "        "
   ]
  }
 ],
 "metadata": {
  "kernelspec": {
   "display_name": "Python 3.8.5 64-bit ('pandas_plyground': conda)",
   "language": "python",
   "name": "python38564bitpandasplygroundcondaaa923595e6d148cd9a5167da44284266"
  },
  "language_info": {
   "codemirror_mode": {
    "name": "ipython",
    "version": 3
   },
   "file_extension": ".py",
   "mimetype": "text/x-python",
   "name": "python",
   "nbconvert_exporter": "python",
   "pygments_lexer": "ipython3",
   "version": "3.8.12"
  }
 },
 "nbformat": 4,
 "nbformat_minor": 5
}
