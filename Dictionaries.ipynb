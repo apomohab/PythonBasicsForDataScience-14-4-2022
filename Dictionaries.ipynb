{
 "cells": [
  {
   "cell_type": "code",
   "execution_count": 2,
   "id": "67ff05ab",
   "metadata": {},
   "outputs": [],
   "source": [
    "# Dictionaries in python 4 - 4 - 2022"
   ]
  },
  {
   "cell_type": "markdown",
   "id": "37b8e79a",
   "metadata": {},
   "source": [
    "القاموس في   عبارة عن مجموعة غير مرتبة من قيم البيانات ، تُستخدم لتخزين قيم البيانات  \n",
    "\n",
    "----\n",
    "\n",
    "القوائم مرتبة القواميس غير مرتبة\n",
    "\n",
    "----\n",
    "\n",
    "القواميس تستخدم المفتاج  للحصول علي العناصر والقيم\n",
    "\n",
    "---\n",
    "\n",
    "في القواميس نستطيع الحصول علي العناصر دون استخدام الفهرسة مثل القوائم \n",
    "\n",
    "---\n",
    "\n",
    "القوائم تستخدم الاقواس المربعة القواميس تستخدم الاقواس المعكوفة\n",
    "\n",
    "-----\n",
    "\n",
    " لا تسمح بتكرار القيم ولا المفاتيح"
   ]
  },
  {
   "cell_type": "code",
   "execution_count": 77,
   "id": "be740321",
   "metadata": {},
   "outputs": [
    {
     "data": {
      "text/plain": [
       "{'Name': 'Saeed', 'Salary': 1500, 'Country': 'Egypt', 'Job': 'Data Analyst'}"
      ]
     },
     "execution_count": 77,
     "metadata": {},
     "output_type": "execute_result"
    }
   ],
   "source": [
    "# Create Dictionary\n",
    "\n",
    "DictNames = {\"Name\":\"Saeed\" , \"Salary\":1500 , \"Country\":\"Egypt\" , \"Job\":\"Data Analyst\" , \"Name\":\"Saeed\"}\n",
    "DictNames"
   ]
  },
  {
   "cell_type": "code",
   "execution_count": 14,
   "id": "563e522f",
   "metadata": {},
   "outputs": [
    {
     "name": "stdout",
     "output_type": "stream",
     "text": [
      "Saeed\n",
      "1500\n",
      "Egypt\n",
      "Data Analyst\n"
     ]
    }
   ],
   "source": [
    "# Called Key\n",
    "\n",
    "print(DictNames['Name'])\n",
    "print(DictNames['Salary'])\n",
    "print(DictNames['Country'])\n",
    "print(DictNames['Job'])"
   ]
  },
  {
   "cell_type": "code",
   "execution_count": 16,
   "id": "9dd48185",
   "metadata": {},
   "outputs": [
    {
     "name": "stdout",
     "output_type": "stream",
     "text": [
      "30\n"
     ]
    }
   ],
   "source": [
    "#Assign new value \n",
    "\n",
    "DictNames['Age'] = 30\n",
    "print(DictNames['Age'])"
   ]
  },
  {
   "cell_type": "code",
   "execution_count": 18,
   "id": "e6e405ca",
   "metadata": {},
   "outputs": [
    {
     "name": "stdout",
     "output_type": "stream",
     "text": [
      "50\n"
     ]
    }
   ],
   "source": [
    "# Sum Values \n",
    "\n",
    "DictNames['Age'] = DictNames['Age'] + 10\n",
    "print(DictNames['Age'])\n"
   ]
  },
  {
   "cell_type": "code",
   "execution_count": 30,
   "id": "862415cd",
   "metadata": {},
   "outputs": [
    {
     "name": "stdout",
     "output_type": "stream",
     "text": [
      "{'Python': ['Pandas', 'Numby', 'ScikitLearn'], 'Machinelearning': ['TensorFlow', 'Keras', 'NLTK']}\n",
      "['Pandas', 'Numby', 'ScikitLearn']\n",
      "['TensorFlow', 'Keras', 'NLTK']\n",
      "TensorFlow\n"
     ]
    }
   ],
   "source": [
    "# add vlaues to dictionary used by list\n",
    "\n",
    "DataScienceLybrary = {\"Python\":['Pandas' , 'Numby' , 'ScikitLearn'] , \"Machinelearning\":[ 'TensorFlow', 'Keras', 'NLTK']}\n",
    "print(DataScienceLybrary)\n",
    "\n",
    "print(DataScienceLybrary['Python'])\n",
    "print(DataScienceLybrary['Machinelearning'])\n",
    "print(DataScienceLybrary['Machinelearning'][0]) #used indexed because the items inside lists"
   ]
  },
  {
   "cell_type": "code",
   "execution_count": 37,
   "id": "3cebbd17",
   "metadata": {},
   "outputs": [
    {
     "name": "stdout",
     "output_type": "stream",
     "text": [
      "{'boys': {'Ahmed': 20, 'Mohab': 30, 'Mjid': 35}, 'Girls': {'Sara': 10, 'Misk': 2, 'Fatma': 3}}\n",
      "{'Ahmed': 20, 'Mohab': 30, 'Mjid': 35}\n",
      "{'Sara': 10, 'Misk': 2, 'Fatma': 3}\n",
      "20\n",
      "10\n"
     ]
    }
   ],
   "source": [
    "# Nested Dictionary\n",
    "\n",
    "SonDict = {\"boys\":{\"Ahmed\":20 , \"Mohab\":30 , \"Mjid\":35} , \"Girls\":{\"Sara\":10 , \"Misk\":2 , \"Fatma\":3}}\n",
    "\n",
    "print(SonDict)\n",
    "\n",
    "print(SonDict[\"boys\"])\n",
    "print(SonDict[\"Girls\"])\n",
    "\n",
    "\n",
    "print(SonDict[\"boys\"]['Ahmed'])\n",
    "print(SonDict[\"Girls\"]['Sara'])"
   ]
  },
  {
   "cell_type": "code",
   "execution_count": 42,
   "id": "bd5bb84d",
   "metadata": {},
   "outputs": [
    {
     "name": "stdout",
     "output_type": "stream",
     "text": [
      "dict_keys(['boys', 'Girls'])\n",
      "dict_values([{'Ahmed': 20, 'Mohab': 30, 'Mjid': 35}, {'Sara': 10, 'Misk': 2, 'Fatma': 3}])\n"
     ]
    }
   ],
   "source": [
    "# Print Keys and values only\n",
    "\n",
    "print(SonDict.keys())\n",
    "print(SonDict.values())"
   ]
  },
  {
   "cell_type": "markdown",
   "id": "25f66023",
   "metadata": {},
   "source": [
    "# Methods Dictionary"
   ]
  },
  {
   "cell_type": "markdown",
   "id": "59d74145",
   "metadata": {},
   "source": [
    "\n",
    "- Method - Description\n",
    "- clear() - Removes all the elements from the dictionary\n",
    "- copy() - Returns a copy of the dictionary\n",
    "- fromkeys() - Returns a dictionary with the specified keys and value\n",
    "- get() - Returns the value of the specified key\n",
    "- tems() - Returns a list containing a tuple for each key value pair\n",
    "- keys() - Returns a list containing the dictionary's keys\n",
    "- pop() - Removes the element with the specified key\n",
    "- popitem() - Removes the last inserted key-value pair\n",
    "- update() - Updates the dictionary with the specified key-value pairs\n",
    "- values() - Returns a list of all the values in the dictionary"
   ]
  },
  {
   "cell_type": "code",
   "execution_count": 45,
   "id": "c3ddba33",
   "metadata": {},
   "outputs": [
    {
     "name": "stdout",
     "output_type": "stream",
     "text": [
      "{}\n"
     ]
    }
   ],
   "source": [
    "#Clear\n",
    "\n",
    "CarDict = {\n",
    "    \n",
    "    \"name\" : \"Nissas\",\n",
    "    \"Model\" : 2022,\n",
    "    \"Color\" : \"White\"\n",
    "}\n",
    "\n",
    "\n",
    "print(CarDict)\n",
    "\n",
    "CarDict.clear()\n",
    "print(CarDict)"
   ]
  },
  {
   "cell_type": "code",
   "execution_count": 48,
   "id": "878c8d45",
   "metadata": {},
   "outputs": [
    {
     "name": "stdout",
     "output_type": "stream",
     "text": [
      "{'name': 'Nissas', 'Model': 2022, 'Color': 'White'}\n"
     ]
    }
   ],
   "source": [
    "#copy\n",
    "\n",
    "CarDict = {\n",
    "    \n",
    "    \"name\" : \"Nissas\",\n",
    "    \"Model\" : 2022,\n",
    "    \"Color\" : \"White\"\n",
    "}\n",
    "\n",
    "x = CarDict.copy()\n",
    "\n",
    "print(x)"
   ]
  },
  {
   "cell_type": "code",
   "execution_count": 51,
   "id": "6f90fcfe",
   "metadata": {},
   "outputs": [
    {
     "data": {
      "text/plain": [
       "{'Sara': 15, 'Saeed': 15, 'Mohab': 15}"
      ]
     },
     "execution_count": 51,
     "metadata": {},
     "output_type": "execute_result"
    }
   ],
   "source": [
    "# fromkeys\n",
    "\n",
    "Names = (\"Sara\" , \"Saeed\" , \"Mohab\")\n",
    "\n",
    "Age = 15 #Apply this age to all names\n",
    "\n",
    "dictnames = dict.fromkeys(Names , Age)\n",
    "\n",
    "dictnames\n",
    "\n"
   ]
  },
  {
   "cell_type": "code",
   "execution_count": 53,
   "id": "6621f117",
   "metadata": {},
   "outputs": [
    {
     "data": {
      "text/plain": [
       "2022"
      ]
     },
     "execution_count": 53,
     "metadata": {},
     "output_type": "execute_result"
    }
   ],
   "source": [
    "# get\n",
    "\n",
    "\n",
    "CarDict = {\n",
    "    \n",
    "    \"name\" : \"Nissas\",\n",
    "    \"Model\" : 2022,\n",
    "    \"Color\" : \"White\"\n",
    "}\n",
    "\n",
    "model = CarDict.get(\"Model\")\n",
    "model"
   ]
  },
  {
   "cell_type": "code",
   "execution_count": 55,
   "id": "87dd0584",
   "metadata": {},
   "outputs": [
    {
     "data": {
      "text/plain": [
       "dict_items([('name', 'Nissas'), ('Model', 2022), ('Color', 'White')])"
      ]
     },
     "execution_count": 55,
     "metadata": {},
     "output_type": "execute_result"
    }
   ],
   "source": [
    "#items\n",
    "\n",
    "CarDict.items()"
   ]
  },
  {
   "cell_type": "code",
   "execution_count": 57,
   "id": "dff3a847",
   "metadata": {},
   "outputs": [
    {
     "data": {
      "text/plain": [
       "dict_keys(['name', 'Model', 'Color'])"
      ]
     },
     "execution_count": 57,
     "metadata": {},
     "output_type": "execute_result"
    }
   ],
   "source": [
    "# Keys\n",
    "\n",
    "CarDict.keys()"
   ]
  },
  {
   "cell_type": "code",
   "execution_count": 60,
   "id": "c1f498e0",
   "metadata": {},
   "outputs": [
    {
     "ename": "KeyError",
     "evalue": "'name'",
     "output_type": "error",
     "traceback": [
      "\u001b[0;31m---------------------------------------------------------------------------\u001b[0m",
      "\u001b[0;31mKeyError\u001b[0m                                  Traceback (most recent call last)",
      "\u001b[0;32m/tmp/ipykernel_1862/2506007438.py\u001b[0m in \u001b[0;36m<module>\u001b[0;34m\u001b[0m\n\u001b[1;32m      1\u001b[0m \u001b[0;31m#pop\u001b[0m\u001b[0;34m\u001b[0m\u001b[0;34m\u001b[0m\u001b[0;34m\u001b[0m\u001b[0m\n\u001b[1;32m      2\u001b[0m \u001b[0;34m\u001b[0m\u001b[0m\n\u001b[0;32m----> 3\u001b[0;31m \u001b[0mCarDict\u001b[0m\u001b[0;34m.\u001b[0m\u001b[0mpop\u001b[0m\u001b[0;34m(\u001b[0m\u001b[0;34m\"name\"\u001b[0m\u001b[0;34m)\u001b[0m\u001b[0;34m\u001b[0m\u001b[0;34m\u001b[0m\u001b[0m\n\u001b[0m\u001b[1;32m      4\u001b[0m \u001b[0mCarDict\u001b[0m\u001b[0;34m\u001b[0m\u001b[0;34m\u001b[0m\u001b[0m\n",
      "\u001b[0;31mKeyError\u001b[0m: 'name'"
     ]
    }
   ],
   "source": [
    "#pop\n",
    "\n",
    "CarDict.pop(\"name\")\n",
    "CarDict"
   ]
  },
  {
   "cell_type": "code",
   "execution_count": 64,
   "id": "06993961",
   "metadata": {},
   "outputs": [
    {
     "ename": "KeyError",
     "evalue": "'popitem(): dictionary is empty'",
     "output_type": "error",
     "traceback": [
      "\u001b[0;31m---------------------------------------------------------------------------\u001b[0m",
      "\u001b[0;31mKeyError\u001b[0m                                  Traceback (most recent call last)",
      "\u001b[0;32m/tmp/ipykernel_1862/1726287707.py\u001b[0m in \u001b[0;36m<module>\u001b[0;34m\u001b[0m\n\u001b[0;32m----> 1\u001b[0;31m \u001b[0mCarDict\u001b[0m\u001b[0;34m.\u001b[0m\u001b[0mpopitem\u001b[0m\u001b[0;34m(\u001b[0m\u001b[0;34m)\u001b[0m \u001b[0;31m#Remove last items in dict\u001b[0m\u001b[0;34m\u001b[0m\u001b[0;34m\u001b[0m\u001b[0m\n\u001b[0m",
      "\u001b[0;31mKeyError\u001b[0m: 'popitem(): dictionary is empty'"
     ]
    }
   ],
   "source": [
    "CarDict.popitem() #Remove last items in dict"
   ]
  },
  {
   "cell_type": "code",
   "execution_count": 70,
   "id": "0da662fe",
   "metadata": {},
   "outputs": [
    {
     "name": "stdout",
     "output_type": "stream",
     "text": [
      "{'name': 'Nissas', 'Model': 2022, 'Color': 'White', 'Speed': 5000}\n"
     ]
    }
   ],
   "source": [
    "# update \n",
    "\n",
    "CarDict = {\n",
    "    \n",
    "    \"name\" : \"Nissas\",\n",
    "    \"Model\" : 2022,\n",
    "    \"Color\" : \"White\"\n",
    "}\n",
    "\n",
    "CarDict.update({\"Speed\" : 5000})\n",
    "\n",
    "print(CarDict) "
   ]
  },
  {
   "cell_type": "code",
   "execution_count": 72,
   "id": "97773477",
   "metadata": {},
   "outputs": [
    {
     "data": {
      "text/plain": [
       "dict_values(['Nissas', 2022, 'White', 5000])"
      ]
     },
     "execution_count": 72,
     "metadata": {},
     "output_type": "execute_result"
    }
   ],
   "source": [
    "#  Values\n",
    "\n",
    "CarDict.values()"
   ]
  },
  {
   "cell_type": "code",
   "execution_count": 73,
   "id": "c7e203a5",
   "metadata": {},
   "outputs": [
    {
     "data": {
      "text/html": [
       "<div>\n",
       "<style scoped>\n",
       "    .dataframe tbody tr th:only-of-type {\n",
       "        vertical-align: middle;\n",
       "    }\n",
       "\n",
       "    .dataframe tbody tr th {\n",
       "        vertical-align: top;\n",
       "    }\n",
       "\n",
       "    .dataframe thead th {\n",
       "        text-align: right;\n",
       "    }\n",
       "</style>\n",
       "<table border=\"1\" class=\"dataframe\">\n",
       "  <thead>\n",
       "    <tr style=\"text-align: right;\">\n",
       "      <th></th>\n",
       "      <th>Name</th>\n",
       "      <th>Age</th>\n",
       "      <th>University</th>\n",
       "    </tr>\n",
       "  </thead>\n",
       "  <tbody>\n",
       "    <tr>\n",
       "      <th>0</th>\n",
       "      <td>Ankit</td>\n",
       "      <td>23</td>\n",
       "      <td>BHU</td>\n",
       "    </tr>\n",
       "    <tr>\n",
       "      <th>1</th>\n",
       "      <td>Aishwarya</td>\n",
       "      <td>21</td>\n",
       "      <td>JNU</td>\n",
       "    </tr>\n",
       "    <tr>\n",
       "      <th>2</th>\n",
       "      <td>Shaurya</td>\n",
       "      <td>22</td>\n",
       "      <td>DU</td>\n",
       "    </tr>\n",
       "    <tr>\n",
       "      <th>3</th>\n",
       "      <td>Shivangi</td>\n",
       "      <td>21</td>\n",
       "      <td>BHU</td>\n",
       "    </tr>\n",
       "  </tbody>\n",
       "</table>\n",
       "</div>"
      ],
      "text/plain": [
       "        Name  Age University\n",
       "0      Ankit   23        BHU\n",
       "1  Aishwarya   21        JNU\n",
       "2    Shaurya   22         DU\n",
       "3   Shivangi   21        BHU"
      ]
     },
     "execution_count": 73,
     "metadata": {},
     "output_type": "execute_result"
    }
   ],
   "source": [
    "# create df used dictionary\n",
    "\n",
    "# import pandas library\n",
    "import pandas as pd\n",
    "  \n",
    "# dictionary with list object in values\n",
    "details = {\n",
    "    \n",
    "    'Name' : ['Ankit', 'Aishwarya', 'Shaurya', 'Shivangi'],\n",
    "    'Age' : [23, 21, 22, 21],\n",
    "    'University' : ['BHU', 'JNU', 'DU', 'BHU'],\n",
    "    \n",
    "}\n",
    "  \n",
    "# creating a Dataframe object \n",
    "df = pd.DataFrame(details)\n",
    "  \n",
    "df"
   ]
  }
 ],
 "metadata": {
  "kernelspec": {
   "display_name": "Python 3.8.5 64-bit ('pandas_plyground': conda)",
   "language": "python",
   "name": "python38564bitpandasplygroundcondaaa923595e6d148cd9a5167da44284266"
  },
  "language_info": {
   "codemirror_mode": {
    "name": "ipython",
    "version": 3
   },
   "file_extension": ".py",
   "mimetype": "text/x-python",
   "name": "python",
   "nbconvert_exporter": "python",
   "pygments_lexer": "ipython3",
   "version": "3.8.12"
  }
 },
 "nbformat": 4,
 "nbformat_minor": 5
}
