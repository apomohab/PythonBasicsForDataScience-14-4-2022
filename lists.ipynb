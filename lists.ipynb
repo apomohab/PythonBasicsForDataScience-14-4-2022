{
 "cells": [
  {
   "cell_type": "code",
   "execution_count": 2,
   "id": "d2d5f64f",
   "metadata": {},
   "outputs": [],
   "source": [
    "# Appy python lists 4-3-3033 ramadan"
   ]
  },
  {
   "cell_type": "markdown",
   "id": "086fd6c5",
   "metadata": {},
   "source": [
    "القائمة عبارة عن هيكل بيانات يحتي علي بيانات في تسلسل مرتب للعناصر قابل للتغيير أو ميوتبل .\n",
    "\n",
    "----\n",
    "\n",
    "يسمى كل عنصر أو قيمة موجودة داخل القائمة عنصرًا -  - .\n",
    "items\n",
    "\n",
    "----\n",
    "\n",
    "\n",
    "كما يتم تعريف السلاسل كأحرف بين علامتي اقتباس ،\n",
    "\n",
    "----\n",
    "\n",
    "يتم تعريف القوائم من خلال وجود قيم بين قوسين مربعين [].\n",
    "\n",
    "----\n",
    "\n",
    "وتنفيذ نفس الأساليب والعمليات على قيم متعددة في وقت واحد\n",
    "\n",
    "----\n",
    "\n",
    "\n",
    "يمكن ان تحتوي القوائم علي المزيد من انواع البيانات معا النصية والرقمية"
   ]
  },
  {
   "cell_type": "code",
   "execution_count": 3,
   "id": "556b2341",
   "metadata": {},
   "outputs": [
    {
     "name": "stdout",
     "output_type": "stream",
     "text": [
      "['A', 'B', 'C', 1, 2, 3]\n"
     ]
    }
   ],
   "source": [
    "# Write list and clalled \n",
    "\n",
    "NewList = ['A' , 'B' , 'C' , 1 , 2 , 3]\n",
    "print(NewList)"
   ]
  },
  {
   "cell_type": "code",
   "execution_count": 8,
   "id": "8299e773",
   "metadata": {},
   "outputs": [
    {
     "name": "stdout",
     "output_type": "stream",
     "text": [
      "A\n",
      "B\n",
      "3\n"
     ]
    }
   ],
   "source": [
    "#Index Lists - الفهرسة - استدعاء البيانات بناء علي ترتيبها بين العناصر\n",
    "\n",
    "print(NewList[0])\n",
    "print(NewList[1])\n",
    "print(NewList[5])"
   ]
  },
  {
   "cell_type": "code",
   "execution_count": 21,
   "id": "207f9ea9",
   "metadata": {},
   "outputs": [
    {
     "name": "stdout",
     "output_type": "stream",
     "text": [
      "['A']\n",
      "['B', 'C', 1, 2]\n",
      "['A', 'B', 'C', 1, 2, 3]\n",
      "['A', 3]\n",
      "['C', 2]\n"
     ]
    }
   ],
   "source": [
    "# Slice - التقطيع - استدعاء البيانات علي شكل أجزاء من بين العناصر\n",
    "\n",
    "print(NewList[0:1])\n",
    "print(NewList[1:5])\n",
    "print(NewList[0:])\n",
    "print(NewList[0::5]) #Start zero Stop five\n",
    "print(NewList[2:5:2]) #Start from 2 and stop at 5 and let  tow step"
   ]
  },
  {
   "cell_type": "code",
   "execution_count": 23,
   "id": "5dbfe96e",
   "metadata": {},
   "outputs": [
    {
     "name": "stdout",
     "output_type": "stream",
     "text": [
      "Hi im learn python lists and you will see my list now it is ['A', 'B', 'C', 1, 2, 3] Thank You Much \n"
     ]
    }
   ],
   "source": [
    "# Add the lists with string used format\n",
    "\n",
    "print(f\"Hi im learn python lists and you will see my list now it is {NewList} Thank You Much \")"
   ]
  },
  {
   "cell_type": "code",
   "execution_count": 36,
   "id": "279c7e0c",
   "metadata": {},
   "outputs": [
    {
     "name": "stdout",
     "output_type": "stream",
     "text": [
      "[[1, 2, 3], ['A', 'B', 'C'], ['Pyhton', 'Php', 'Java']]\n",
      "[1, 2, 3]\n",
      "['A', 'B', 'C']\n",
      "['Pyhton', 'Php', 'Java']\n",
      "2\n",
      "B\n",
      "Java\n"
     ]
    }
   ],
   "source": [
    "#Nested Lists - القوائم المتداخلة - انشاء قائمة داخل قائمة\n",
    "\n",
    "NestedList = [[1,2,3] ,['A' , 'B' , 'C'] ,['Pyhton' , 'Php' , 'Java']]\n",
    "print(NestedList)\n",
    "print(NestedList[0])\n",
    "print(NestedList[1])\n",
    "print(NestedList[2])\n",
    "print(NestedList[0][1])\n",
    "print(NestedList[1][1])\n",
    "print(NestedList[2][2])"
   ]
  },
  {
   "cell_type": "code",
   "execution_count": 41,
   "id": "93449e22",
   "metadata": {},
   "outputs": [
    {
     "name": "stdout",
     "output_type": "stream",
     "text": [
      "[['Saeed', 'Ahmed', 'Sara'], [1, 2, 3, 4, 5], ['Python', 'Ruby', 'Css']]\n",
      "Saeed\n",
      "2\n",
      "Css\n",
      "-------\n",
      "Ahmed\n",
      "3\n",
      "Ruby\n"
     ]
    }
   ],
   "source": [
    "# other way for nested lists\n",
    "\n",
    "A = ['Saeed' , \"Ahmed\" , \"Sara\"]\n",
    "B = [1,2,3,4,5]\n",
    "C = ['Python' , 'Ruby' , 'Css']\n",
    "\n",
    "AllLists = [A  , B , C]\n",
    "\n",
    "print(AllLists)\n",
    "\n",
    "\n",
    "print(A[0])\n",
    "print(B[1])\n",
    "print(C[2])\n",
    "print('-------')\n",
    "print(AllLists[0][1])\n",
    "print(AllLists[1][2])\n",
    "print(AllLists[2][1])"
   ]
  },
  {
   "cell_type": "markdown",
   "id": "2c6e6761",
   "metadata": {},
   "source": [
    "# Function lists \n",
    "\n",
    "- len \n",
    "- append() Adds an element at the end of the list\n",
    "- clear()  Removes all the elements from the list\n",
    "- copy()   Returns a copy of the list\n",
    "- count()  Returns the number of elements with the specified value\n",
    "- extend()   Add the elements of a list (or any iterable), to the end of the current list\n",
    "- index()    Returns the index of the first element with the specified value\n",
    "- insert()   Adds an element at the specified position\n",
    "- pop()      Removes the element at the specified position\n",
    "- remove()   Removes the item with the specified value\n",
    "- reverse ()  Reverses the order of the list\n",
    "- sort()"
   ]
  },
  {
   "cell_type": "code",
   "execution_count": 48,
   "id": "a58908a3",
   "metadata": {},
   "outputs": [
    {
     "data": {
      "text/plain": [
       "2"
      ]
     },
     "execution_count": 48,
     "metadata": {},
     "output_type": "execute_result"
    }
   ],
   "source": [
    "#len\n",
    "TowListNum = [1,2,3,4,5]\n",
    "len(TowList)"
   ]
  },
  {
   "cell_type": "code",
   "execution_count": null,
   "id": "3f286e20",
   "metadata": {},
   "outputs": [],
   "source": []
  },
  {
   "cell_type": "code",
   "execution_count": 47,
   "id": "2034893e",
   "metadata": {},
   "outputs": [
    {
     "data": {
      "text/plain": [
       "['A', 'C']"
      ]
     },
     "execution_count": 47,
     "metadata": {},
     "output_type": "execute_result"
    }
   ],
   "source": [
    "#pop\n",
    "TowListStr = ['A' , 'B' , 'C']\n",
    "TowListStr.pop(1)\n",
    "TowListStr"
   ]
  },
  {
   "cell_type": "code",
   "execution_count": 50,
   "id": "05cb9924",
   "metadata": {},
   "outputs": [
    {
     "data": {
      "text/plain": [
       "['A', 'C', 'D', 'D']"
      ]
     },
     "execution_count": 50,
     "metadata": {},
     "output_type": "execute_result"
    }
   ],
   "source": [
    "#append\n",
    "TowListStr.append('D')\n",
    "TowListStr"
   ]
  },
  {
   "cell_type": "code",
   "execution_count": 52,
   "id": "b78a987c",
   "metadata": {},
   "outputs": [
    {
     "data": {
      "text/plain": [
       "['A', 'C', 'D', 'D', 33, 33]"
      ]
     },
     "execution_count": 52,
     "metadata": {},
     "output_type": "execute_result"
    }
   ],
   "source": [
    "TowListStr.append(33)\n",
    "TowListStr"
   ]
  },
  {
   "cell_type": "code",
   "execution_count": 54,
   "id": "929650eb",
   "metadata": {},
   "outputs": [
    {
     "data": {
      "text/plain": [
       "[]"
      ]
     },
     "execution_count": 54,
     "metadata": {},
     "output_type": "execute_result"
    }
   ],
   "source": [
    "# Clear\n",
    "TowListStr.clear()\n",
    "TowListStr"
   ]
  },
  {
   "cell_type": "code",
   "execution_count": 57,
   "id": "fbcf3585",
   "metadata": {},
   "outputs": [
    {
     "data": {
      "text/plain": [
       "['A', 'B', 'C']"
      ]
     },
     "execution_count": 57,
     "metadata": {},
     "output_type": "execute_result"
    }
   ],
   "source": [
    "#Copy\n",
    "TowListStr = ['A' , 'B' , 'C']\n",
    "x = TowListStr.copy()\n",
    "x"
   ]
  },
  {
   "cell_type": "code",
   "execution_count": 59,
   "id": "15a7ae39",
   "metadata": {},
   "outputs": [
    {
     "data": {
      "text/plain": [
       "1"
      ]
     },
     "execution_count": 59,
     "metadata": {},
     "output_type": "execute_result"
    }
   ],
   "source": [
    "#Count\n",
    "TowListStr.count('B')"
   ]
  },
  {
   "cell_type": "code",
   "execution_count": 66,
   "id": "074e0d1c",
   "metadata": {},
   "outputs": [
    {
     "data": {
      "text/plain": [
       "['a', 'b', 'c', 1, 2, 3]"
      ]
     },
     "execution_count": 66,
     "metadata": {},
     "output_type": "execute_result"
    }
   ],
   "source": [
    "# Extend\n",
    "\n",
    "X = ['a' , 'b' , 'c']\n",
    "Y = [1,2,3]\n",
    "X.extend(Y)\n",
    "X\n"
   ]
  },
  {
   "cell_type": "code",
   "execution_count": 67,
   "id": "6e9957a6",
   "metadata": {},
   "outputs": [
    {
     "data": {
      "text/plain": [
       "0"
      ]
     },
     "execution_count": 67,
     "metadata": {},
     "output_type": "execute_result"
    }
   ],
   "source": [
    "# index\n",
    "\n",
    "TowListStr = ['A' , 'B' , 'C']\n",
    "TowListStr.index('A')"
   ]
  },
  {
   "cell_type": "code",
   "execution_count": 71,
   "id": "48ef9afd",
   "metadata": {},
   "outputs": [
    {
     "data": {
      "text/plain": [
       "['A', 'B', 'C', 'D']"
      ]
     },
     "execution_count": 71,
     "metadata": {},
     "output_type": "execute_result"
    }
   ],
   "source": [
    "# insert\n",
    "\n",
    "TowListStr = ['A' , 'B' , 'C']\n",
    "TowListStr.insert(3 , 'D') # Mone the new item by order\n",
    "TowListStr "
   ]
  },
  {
   "cell_type": "code",
   "execution_count": 72,
   "id": "60462c57",
   "metadata": {},
   "outputs": [
    {
     "data": {
      "text/plain": [
       "['B', 'C', 'D']"
      ]
     },
     "execution_count": 72,
     "metadata": {},
     "output_type": "execute_result"
    }
   ],
   "source": [
    "# Remove\n",
    "\n",
    "\n",
    "TowListStr.remove('A')\n",
    "TowListStr\n"
   ]
  },
  {
   "cell_type": "code",
   "execution_count": 74,
   "id": "223ed428",
   "metadata": {},
   "outputs": [
    {
     "data": {
      "text/plain": [
       "['B', 'C', 'D']"
      ]
     },
     "execution_count": 74,
     "metadata": {},
     "output_type": "execute_result"
    }
   ],
   "source": [
    "# Reverse\n",
    "\n",
    "TowListStr.reverse()\n",
    "TowListStr"
   ]
  },
  {
   "cell_type": "code",
   "execution_count": 81,
   "id": "9ac1c0fc",
   "metadata": {},
   "outputs": [
    {
     "data": {
      "text/plain": [
       "[2, 3, 4, 10, 23, 45, 50]"
      ]
     },
     "execution_count": 81,
     "metadata": {},
     "output_type": "execute_result"
    }
   ],
   "source": [
    "#Sort number \n",
    "Z = [10,23,45,50,2,3,4]\n",
    "Z.sort()\n",
    "(Z)"
   ]
  },
  {
   "cell_type": "code",
   "execution_count": 84,
   "id": "d4357303",
   "metadata": {},
   "outputs": [
    {
     "data": {
      "text/plain": [
       "['Mohab', 'Sara', 'ezz']"
      ]
     },
     "execution_count": 84,
     "metadata": {},
     "output_type": "execute_result"
    }
   ],
   "source": [
    "#Sort string\n",
    "\n",
    "Z = ['Sara' , 'Mohab' , \"ezz\"]\n",
    "Z.sort()\n",
    "(Z)"
   ]
  },
  {
   "cell_type": "code",
   "execution_count": 87,
   "id": "7d03bab3",
   "metadata": {},
   "outputs": [
    {
     "data": {
      "text/html": [
       "<div>\n",
       "<style scoped>\n",
       "    .dataframe tbody tr th:only-of-type {\n",
       "        vertical-align: middle;\n",
       "    }\n",
       "\n",
       "    .dataframe tbody tr th {\n",
       "        vertical-align: top;\n",
       "    }\n",
       "\n",
       "    .dataframe thead th {\n",
       "        text-align: right;\n",
       "    }\n",
       "</style>\n",
       "<table border=\"1\" class=\"dataframe\">\n",
       "  <thead>\n",
       "    <tr style=\"text-align: right;\">\n",
       "      <th></th>\n",
       "      <th>Courses</th>\n",
       "      <th>Prices</th>\n",
       "    </tr>\n",
       "  </thead>\n",
       "  <tbody>\n",
       "    <tr>\n",
       "      <th>0</th>\n",
       "      <td>Python</td>\n",
       "      <td>10$</td>\n",
       "    </tr>\n",
       "    <tr>\n",
       "      <th>1</th>\n",
       "      <td>PHP</td>\n",
       "      <td>20$</td>\n",
       "    </tr>\n",
       "    <tr>\n",
       "      <th>2</th>\n",
       "      <td>JAva</td>\n",
       "      <td>30$</td>\n",
       "    </tr>\n",
       "    <tr>\n",
       "      <th>3</th>\n",
       "      <td>C</td>\n",
       "      <td>40$</td>\n",
       "    </tr>\n",
       "  </tbody>\n",
       "</table>\n",
       "</div>"
      ],
      "text/plain": [
       "  Courses Prices\n",
       "0  Python    10$\n",
       "1     PHP    20$\n",
       "2    JAva    30$\n",
       "3       C    40$"
      ]
     },
     "execution_count": 87,
     "metadata": {},
     "output_type": "execute_result"
    }
   ],
   "source": [
    "# How To build data frame used lists\n",
    "\n",
    "import pandas as pd \n",
    "\n",
    "ProgramingLang = ['Python' , 'PHP' , 'JAva' , 'C']\n",
    "Prices = ['10$' , '20$' , '30$' , '40$']\n",
    "\n",
    "dataframe = pd.DataFrame(list(zip(ProgramingLang , Prices)) , columns = ['Courses'  , 'Prices'])\n",
    "dataframe\n"
   ]
  }
 ],
 "metadata": {
  "kernelspec": {
   "display_name": "Python 3.8.5 64-bit ('pandas_plyground': conda)",
   "language": "python",
   "name": "python38564bitpandasplygroundcondaaa923595e6d148cd9a5167da44284266"
  },
  "language_info": {
   "codemirror_mode": {
    "name": "ipython",
    "version": 3
   },
   "file_extension": ".py",
   "mimetype": "text/x-python",
   "name": "python",
   "nbconvert_exporter": "python",
   "pygments_lexer": "ipython3",
   "version": "3.8.12"
  }
 },
 "nbformat": 4,
 "nbformat_minor": 5
}
